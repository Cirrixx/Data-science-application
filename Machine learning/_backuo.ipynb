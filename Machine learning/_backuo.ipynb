{
 "cells": [
  {
   "cell_type": "code",
   "execution_count": 16,
   "metadata": {},
   "outputs": [],
   "source": [
    "#import modules\n",
    "import pandas as pd\n",
    "from xgboost import XGBRegressor\n",
    "import sklearn\n",
    "\n",
    "\n",
    "\n",
    "\n",
    "#load data \n",
    "energy_data = pd.read_csv(\"recs2015_public_v4.csv\", index_col = \"DOEID\")\n",
    "energy_data.head()\n",
    "\n",
    "#add new column to dataset based on US national energy prices as of July 2022.\n",
    "def price_convertor(row):\n",
    "    \"\"\"calculates yearly energy cost in dollars\"\"\"\n",
    "    current_cost = row * 0.166 #multiplies kilowatthours used between 01/01/2015-31/12/2015 by US energy prices in July 2022\n",
    "    return current_cost\n",
    "\n",
    "energy_data[\"2022_price\"] = energy_data[\"KWH\"].apply(price_convertor)\n"
   ]
  },
  {
   "cell_type": "code",
   "execution_count": 17,
   "metadata": {},
   "outputs": [
    {
     "name": "stdout",
     "output_type": "stream",
     "text": [
      "0\n",
      "       REGIONC  DIVISION METROMICRO UATYP10  TYPEHUQ  ZTYPEHUQ  CELLAR  \\\n",
      "DOEID                                                                    \n",
      "10001        4        10      METRO       U        2         0       0   \n",
      "10002        3         7       NONE       R        2         0       0   \n",
      "10003        3         6      METRO       U        2         0       1   \n",
      "10004        2         4      MICRO       C        2         0       1   \n",
      "10005        1         2      METRO       U        2         0       1   \n",
      "...        ...       ...        ...     ...      ...       ...     ...   \n",
      "15682        2         3      METRO       U        5         0      -2   \n",
      "15683        3         6      MICRO       C        2         0       0   \n",
      "15684        2         3      METRO       U        5         0      -2   \n",
      "15685        3         7      METRO       R        2         0       0   \n",
      "15686        2         3      METRO       U        4         0      -2   \n",
      "\n",
      "       ZCELLAR  BASEFIN  ZBASEFIN  ...  ZWDPELLET  WDOTHER  WDWARM  WDWATER  \\\n",
      "DOEID                              ...                                        \n",
      "10001        0       -2        -2  ...         -2       -2       0        0   \n",
      "10002        0       -2        -2  ...         -2       -2       0        0   \n",
      "10003        0        1         0  ...         -2       -2       0        0   \n",
      "10004        0        1         0  ...         -2       -2       0        0   \n",
      "10005        0        0         0  ...         -2       -2       0        0   \n",
      "...        ...      ...       ...  ...        ...      ...     ...      ...   \n",
      "15682       -2       -2        -2  ...         -2       -2       0        0   \n",
      "15683        0       -2        -2  ...         -2       -2       0        0   \n",
      "15684       -2       -2        -2  ...         -2       -2       0        0   \n",
      "15685        0       -2        -2  ...         -2       -2       0        0   \n",
      "15686       -2       -2        -2  ...         -2       -2       0        0   \n",
      "\n",
      "       USESOLAR  SOLWATER  SOLOTHER  TOTCSQFT  TOTHSQFT  TOTSQFT_EN  \n",
      "DOEID                                                                \n",
      "10001         0         0         0      1808      1808        1808  \n",
      "10002         0         0         0       759       759         759  \n",
      "10003         0         0         0      1716      1430        2288  \n",
      "10004         0         0         0      2573      2573        2573  \n",
      "10005         0         0         0       933       933        1024  \n",
      "...         ...       ...       ...       ...       ...         ...  \n",
      "15682         0         0         0       152       456         456  \n",
      "15683         0         0         0       196       980         980  \n",
      "15684         0         0         0       298       893         893  \n",
      "15685         0         0         0      2014      2014        4428  \n",
      "15686         0         0         0      1232      1232        1232  \n",
      "\n",
      "[5686 rows x 475 columns]\n"
     ]
    }
   ],
   "source": [
    "from sklearn.model_selection import train_test_split\n",
    "#check if any rows are missing target data. Other columns assessed later to avoid data leakage.  \n",
    "missing_target = energy_data[\"KWH\"].isnull().sum()\n",
    "print(missing_target) #no issue -> therefore no need to remove any \n",
    "\n",
    "#seperate target data column from dataset\n",
    "y = energy_data[\"KWH\"]\n",
    "\n",
    "\n",
    "#break off predictor columns of interest\n",
    "X = energy_data.loc[:,\"REGIONC\":\"TOTSQFT_EN\"] #selects all possible predictor columns \n",
    "print(X)\n"
   ]
  },
  {
   "cell_type": "code",
   "execution_count": 18,
   "metadata": {},
   "outputs": [
    {
     "name": "stdout",
     "output_type": "stream",
     "text": [
      "['METROMICRO', 'UATYP10']\n"
     ]
    }
   ],
   "source": [
    "#check if any columns contain characters\n",
    "s = (X.dtypes == \"object\")\n",
    "object_cols = list(s[s].index)\n",
    "print(object_cols) \n",
    "\n"
   ]
  },
  {
   "cell_type": "markdown",
   "metadata": {},
   "source": [
    "Found 4 columns contain characters. These columns will be one-hot encoded to convert them into a number. \n",
    "\n",
    "Note that dataset had already been imputed, therefore this step was skipped. "
   ]
  },
  {
   "cell_type": "code",
   "execution_count": 19,
   "metadata": {},
   "outputs": [
    {
     "ename": "AttributeError",
     "evalue": "module 'sklearn' has no attribute 'pipeline'",
     "output_type": "error",
     "traceback": [
      "\u001b[1;31m---------------------------------------------------------------------------\u001b[0m",
      "\u001b[1;31mAttributeError\u001b[0m                            Traceback (most recent call last)",
      "\u001b[1;32mc:\\Users\\evanm\\OneDrive\\Documents\\Python resources\\Machine learning\\_backuo.ipynb Cell 5\u001b[0m in \u001b[0;36m<cell line: 2>\u001b[1;34m()\u001b[0m\n\u001b[0;32m      <a href='vscode-notebook-cell:/c%3A/Users/evanm/OneDrive/Documents/Python%20resources/Machine%20learning/_backuo.ipynb#W4sZmlsZQ%3D%3D?line=0'>1</a>\u001b[0m \u001b[39m#preprocessing for categorical data\u001b[39;00m\n\u001b[1;32m----> <a href='vscode-notebook-cell:/c%3A/Users/evanm/OneDrive/Documents/Python%20resources/Machine%20learning/_backuo.ipynb#W4sZmlsZQ%3D%3D?line=1'>2</a>\u001b[0m categorical_transformer \u001b[39m=\u001b[39m sklearn\u001b[39m.\u001b[39;49mpipeline\u001b[39m.\u001b[39mPipeline(steps \u001b[39m=\u001b[39m [\n\u001b[0;32m      <a href='vscode-notebook-cell:/c%3A/Users/evanm/OneDrive/Documents/Python%20resources/Machine%20learning/_backuo.ipynb#W4sZmlsZQ%3D%3D?line=2'>3</a>\u001b[0m     (\u001b[39m\"\u001b[39m\u001b[39mimputer\u001b[39m\u001b[39m\"\u001b[39m, sklearn\u001b[39m.\u001b[39mimpute\u001b[39m.\u001b[39mSimpleImputer(strategy \u001b[39m=\u001b[39m \u001b[39m\"\u001b[39m\u001b[39mmost_frequent\u001b[39m\u001b[39m\"\u001b[39m)),\n\u001b[0;32m      <a href='vscode-notebook-cell:/c%3A/Users/evanm/OneDrive/Documents/Python%20resources/Machine%20learning/_backuo.ipynb#W4sZmlsZQ%3D%3D?line=3'>4</a>\u001b[0m     (\u001b[39m\"\u001b[39m\u001b[39monehot\u001b[39m\u001b[39m\"\u001b[39m, sklearn\u001b[39m.\u001b[39mpreprocessing\u001b[39m.\u001b[39mOneHotEncoder(handle_unknown\u001b[39m=\u001b[39m\u001b[39m\"\u001b[39m\u001b[39mignore\u001b[39m\u001b[39m\"\u001b[39m))])\n",
      "\u001b[1;31mAttributeError\u001b[0m: module 'sklearn' has no attribute 'pipeline'"
     ]
    }
   ],
   "source": [
    "#preprocessing for categorical data\n",
    "categorical_transformer = sklearn.pipeline.Pipeline(steps = [\n",
    "    (\"imputer\", sklearn.impute.SimpleImputer(strategy = \"most_frequent\")),\n",
    "    (\"onehot\", sklearn.preprocessing.OneHotEncoder(handle_unknown=\"ignore\"))])\n",
    "\n",
    "    "
   ]
  },
  {
   "cell_type": "markdown",
   "metadata": {},
   "source": [
    "# Original Model \n",
    "Uses full set of variables to predict energy usage"
   ]
  },
  {
   "cell_type": "code",
   "execution_count": null,
   "metadata": {},
   "outputs": [],
   "source": [
    "\n",
    "\n",
    "\n",
    "#create values to alternate through to check for best parameters\n",
    "N_VALUES = [100, 200, 300, 400, 500, 600, 700, 800, 900, 1000]\n",
    "LEARNING_VALUES = [0.1, 0.2, 0.3, 0.4, 0.5, 0.6, 0.7, 0.8, 0.9]\n",
    "\n",
    "#create dictionary to assign results to \n",
    "model_dict = {}\n",
    "\n",
    "#create function for comparing lots of models\n",
    "\n",
    "def get_score(n_value, learning_value):\n",
    "\n",
    "    model = XGBRegressor(n_estimators = n_value, early_stopping_rounds = 5, learning_rate = learning_value, n_jobs = 4)\n",
    "\n",
    "    #create pipeline \n",
    "    my_pipeline = sklearn.pipeline.Pipeline(steps =[\n",
    "        (\"categorical_transformer\", categorical_transformer),\n",
    "        (\"model\", model)\n",
    "    ])\n",
    "\n",
    "for n_value in N_VALUES:\n",
    "    for learning_value in LEARNING_VALUES: \n",
    "        \n",
    "        \n",
    "\n",
    "        #fit model \n",
    "        my_pipeline.fit(X_train, y_train)\n",
    "\n",
    "        #get predictions \n",
    "\n",
    "        predictions = my_pipeline.predict(X_valid)\n",
    "\n",
    "\n",
    "\n",
    "\n",
    "\n",
    "\n",
    "\n",
    "\n"
   ]
  }
 ],
 "metadata": {
  "kernelspec": {
   "display_name": "Python 3.10.5 64-bit",
   "language": "python",
   "name": "python3"
  },
  "language_info": {
   "codemirror_mode": {
    "name": "ipython",
    "version": 3
   },
   "file_extension": ".py",
   "mimetype": "text/x-python",
   "name": "python",
   "nbconvert_exporter": "python",
   "pygments_lexer": "ipython3",
   "version": "3.10.5"
  },
  "orig_nbformat": 4,
  "vscode": {
   "interpreter": {
    "hash": "44d185f371fdda112848cc952b3838de71c0600367086048220c58996696b225"
   }
  }
 },
 "nbformat": 4,
 "nbformat_minor": 2
}
