{
 "cells": [
  {
   "cell_type": "markdown",
   "metadata": {},
   "source": [
    "# Data setup"
   ]
  },
  {
   "cell_type": "code",
   "execution_count": 130,
   "metadata": {
    "vscode": {
     "languageId": "r"
    }
   },
   "outputs": [],
   "source": [
    "#load necessary packages\n",
    "\n",
    "library(psyntur)\n",
    "library(tidyverse)\n",
    "library(ggplot2)\n",
    "library(moments)\n",
    "library(emmeans)\n",
    "library(lsr)\n",
    "library(dplyr)\n",
    "library(afex)\n",
    "#change working directory \n",
    "setwd(r\"(C:\\Users\\invate\\OneDrive\\Documents\\Nottingham Trent Work\\Project lab\\Analysis)\")\n",
    "\n",
    "#read in data \n",
    "demographic_data = read.csv(r\"(C:\\Users\\invate\\OneDrive\\Documents\\Nottingham Trent Work\\Project lab\\Analysis\\Clean data\\Demographic data\\cleaned_demographic_data.csv)\")\n",
    "offline_full = read.csv(r\"(C:\\Users\\invate\\OneDrive\\Documents\\Nottingham Trent Work\\Project lab\\Analysis\\Clean data\\Offline task data\\cleaned_2AFC_data_full.csv)\")\n",
    "offline_illusionary = read.csv(r\"(C:\\Users\\invate\\OneDrive\\Documents\\Nottingham Trent Work\\Project lab\\Analysis\\Clean data\\Offline task data\\cleaned_2AFC_data_illusionary.csv)\")\n",
    "offline_part = read.csv(r\"(C:\\Users\\invate\\OneDrive\\Documents\\Nottingham Trent Work\\Project lab\\Analysis\\Clean data\\Offline task data\\cleaned_2AFC_data_part_sequence.csv)\")\n",
    "online_OML = read.csv(r\"(C:\\Users\\invate\\OneDrive\\Documents\\Nottingham Trent Work\\Project lab\\Analysis\\Clean data\\Online task data\\cleaned_online_data_OML.csv)\")\n",
    "online_position = read.csv(r\"(C:\\Users\\invate\\OneDrive\\Documents\\Nottingham Trent Work\\Project lab\\Analysis\\Clean data\\Online task data\\cleaned_online_data_position.csv)\")\n",
    "online_OML_forlm = read.csv(r\"(C:\\Users\\invate\\OneDrive\\Documents\\Nottingham Trent Work\\Project lab\\Analysis\\Clean data\\Online task data\\cleaned_online_data_OML.csv)\")\n",
    "\n",
    "#recode categorical variables as a factor for all data sets \n",
    "offline_illusionary$condition = as.factor(offline_illusionary$condition)\n",
    "offline_illusionary$comparison_type= as.factor(offline_illusionary$comparison_type)\n",
    "\n",
    "offline_part$condition = as.factor(offline_part$condition)\n",
    "offline_part$comparison_type = as.factor(offline_part$comparison_type)\n",
    "\n",
    "offline_full$condition = as.factor(offline_full$condition)\n",
    "offline_full$comparison_type =as.factor(offline_full$comparison_type)\n",
    "offline_full$id = as.factor(offline_full$id)\n",
    "\n",
    "online_OML$condition = as.factor(online_OML$condition)\n",
    "online_OML$block = as.factor(online_OML$block)\n",
    "online_OML$id = as.factor(online_OML$id)\n",
    "online_OML_forlm$condition = as.factor(online_OML_forlm$condition)\n",
    "online_position$condition = as.factor(online_position$condition)\n",
    "online_position$position = as.factor(online_position$position)\n",
    "online_position$id = as.factor(online_position$id)\n",
    "\n",
    "\n",
    "#create position data subsets (necessary for ANOVA)\n",
    "online_position_spatial_cue = online_position %>% filter(grepl(\"spatial_cue\", condition))\n",
    "online_position_cueless = online_position %>% filter(grepl(\"cueless\", condition))\n",
    "\n",
    "#create OML data subsets (necessary for comparing linear models)\n",
    "online_OML_spatial_cue = online_OML_forlm %>% filter(grepl(\"spatial_cue\", condition))\n",
    "online_OML_cueless = online_OML_forlm %>% filter(grepl(\"cueless\", condition))\n",
    "\n",
    "\n",
    "\n"
   ]
  },
  {
   "cell_type": "code",
   "execution_count": 131,
   "metadata": {
    "vscode": {
     "languageId": "r"
    }
   },
   "outputs": [],
   "source": [
    "detect_outlier <- function(x) {\n",
    " \n",
    "    # calculate first quantile\n",
    "    Quantile1 <- quantile(x, probs=.25, na.rm= TRUE)\n",
    " \n",
    "    # calculate third quantile\n",
    "    Quantile3 <- quantile(x, probs=.75, na.rm = TRUE)\n",
    " \n",
    "    # calculate inter quartile range\n",
    "    IQR = Quantile3-Quantile1\n",
    " \n",
    "    # return true or false\n",
    "    x > Quantile3 + (IQR*1.5) | x < Quantile1 - (IQR*1.5)\n",
    "}\n",
    " \n",
    "# create remove outlier function\n",
    "remove_outlier <- function(dataframe,\n",
    "                            columns=names(dataframe)) {\n",
    " \n",
    "    # for loop to traverse in columns vector\n",
    "    for (col in columns) {\n",
    " \n",
    "        # remove observation if it satisfies outlier function\n",
    "        dataframe <- dataframe[!detect_outlier(dataframe[[col]]), ]\n",
    "    }\n",
    " \n",
    "    # return dataframe\n",
    "    return(dataframe)\n",
    "}\n",
    " \n",
    "online_position <- remove_outlier(online_position, c(\"log_rt\"))\n",
    "\n",
    "online_OML <- remove_outlier(online_OML, c(\"OML\"))"
   ]
  },
  {
   "cell_type": "markdown",
   "metadata": {},
   "source": [
    "# Demographic data"
   ]
  },
  {
   "cell_type": "code",
   "execution_count": 132,
   "metadata": {
    "vscode": {
     "languageId": "r"
    }
   },
   "outputs": [
    {
     "data": {
      "text/plain": [
       "\n",
       "     female      Female      FEMALE genderfluid        male        Male \n",
       "         25          29           2           1           1           2 "
      ]
     },
     "metadata": {},
     "output_type": "display_data"
    },
    {
     "name": "stdout",
     "output_type": "stream",
     "text": [
      "  mean_age min_age max_age   sd_age\n",
      "1 20.46667      18      38 3.548534\n"
     ]
    },
    {
     "data": {
      "text/html": [
       "<table class=\"dataframe\">\n",
       "<caption>A tibble: 2 × 2</caption>\n",
       "<thead>\n",
       "\t<tr><th scope=col>condition</th><th scope=col>count</th></tr>\n",
       "\t<tr><th scope=col>&lt;fct&gt;</th><th scope=col>&lt;int&gt;</th></tr>\n",
       "</thead>\n",
       "<tbody>\n",
       "\t<tr><td>cueless    </td><td>23</td></tr>\n",
       "\t<tr><td>spatial_cue</td><td>29</td></tr>\n",
       "</tbody>\n",
       "</table>\n"
      ],
      "text/latex": [
       "A tibble: 2 × 2\n",
       "\\begin{tabular}{ll}\n",
       " condition & count\\\\\n",
       " <fct> & <int>\\\\\n",
       "\\hline\n",
       "\t cueless     & 23\\\\\n",
       "\t spatial\\_cue & 29\\\\\n",
       "\\end{tabular}\n"
      ],
      "text/markdown": [
       "\n",
       "A tibble: 2 × 2\n",
       "\n",
       "| condition &lt;fct&gt; | count &lt;int&gt; |\n",
       "|---|---|\n",
       "| cueless     | 23 |\n",
       "| spatial_cue | 29 |\n",
       "\n"
      ],
      "text/plain": [
       "  condition   count\n",
       "1 cueless     23   \n",
       "2 spatial_cue 29   "
      ]
     },
     "metadata": {},
     "output_type": "display_data"
    }
   ],
   "source": [
    "#get age descriptive statistics\n",
    "descriptive_statistics = describe(demographic_data,\n",
    "mean_age = mean(age),\n",
    "min_age = min(age), \n",
    "max_age = max(age),\n",
    "sd_age = sd(age))\n",
    "\n",
    "#get gender descriptive statistics \n",
    "table(demographic_data$gender)\n",
    "print(descriptive_statistics)\n",
    "\n",
    "#count number per condition \n",
    "online_OML %>% group_by(condition) %>% summarise(count = n_distinct(id)) #note each condition should have an additional 4 vs what seen here because its using the OML data for conditions, which had certain partiicpants dropped\n",
    "\n",
    "\n",
    "\n",
    "\n"
   ]
  },
  {
   "cell_type": "markdown",
   "metadata": {},
   "source": [
    "# Online data "
   ]
  },
  {
   "cell_type": "markdown",
   "metadata": {},
   "source": [
    "## Descriptive statistics & visualisaiton"
   ]
  },
  {
   "cell_type": "code",
   "execution_count": 133,
   "metadata": {
    "vscode": {
     "languageId": "r"
    }
   },
   "outputs": [
    {
     "name": "stderr",
     "output_type": "stream",
     "text": [
      "`summarise()` has grouped output by 'condition'. You can override using the `.groups` argument.\n"
     ]
    },
    {
     "data": {
      "text/html": [
       "<table class=\"dataframe\">\n",
       "<caption>A data.frame: 6 × 6</caption>\n",
       "<thead>\n",
       "\t<tr><th scope=col>condition</th><th scope=col>position</th><th scope=col>mean_rt</th><th scope=col>sd_rt</th><th scope=col>mean_log_rt</th><th scope=col>sd_log_rt</th></tr>\n",
       "\t<tr><th scope=col>&lt;fct&gt;</th><th scope=col>&lt;fct&gt;</th><th scope=col>&lt;dbl&gt;</th><th scope=col>&lt;dbl&gt;</th><th scope=col>&lt;dbl&gt;</th><th scope=col>&lt;dbl&gt;</th></tr>\n",
       "</thead>\n",
       "<tbody>\n",
       "\t<tr><td>cueless    </td><td>shape_1</td><td>491.7334</td><td>88.80914</td><td>6.162241</td><td>0.1660219</td></tr>\n",
       "\t<tr><td>cueless    </td><td>shape_2</td><td>506.5325</td><td>96.06230</td><td>6.191786</td><td>0.1762703</td></tr>\n",
       "\t<tr><td>cueless    </td><td>shape_3</td><td>496.8226</td><td>87.81884</td><td>6.173102</td><td>0.1685648</td></tr>\n",
       "\t<tr><td>spatial_cue</td><td>shape_1</td><td>580.2931</td><td>93.83984</td><td>6.333551</td><td>0.1639549</td></tr>\n",
       "\t<tr><td>spatial_cue</td><td>shape_2</td><td>567.6826</td><td>98.49214</td><td>6.308865</td><td>0.1763914</td></tr>\n",
       "\t<tr><td>spatial_cue</td><td>shape_3</td><td>555.3805</td><td>94.01341</td><td>6.288465</td><td>0.1682114</td></tr>\n",
       "</tbody>\n",
       "</table>\n"
      ],
      "text/latex": [
       "A data.frame: 6 × 6\n",
       "\\begin{tabular}{llllll}\n",
       " condition & position & mean\\_rt & sd\\_rt & mean\\_log\\_rt & sd\\_log\\_rt\\\\\n",
       " <fct> & <fct> & <dbl> & <dbl> & <dbl> & <dbl>\\\\\n",
       "\\hline\n",
       "\t cueless     & shape\\_1 & 491.7334 & 88.80914 & 6.162241 & 0.1660219\\\\\n",
       "\t cueless     & shape\\_2 & 506.5325 & 96.06230 & 6.191786 & 0.1762703\\\\\n",
       "\t cueless     & shape\\_3 & 496.8226 & 87.81884 & 6.173102 & 0.1685648\\\\\n",
       "\t spatial\\_cue & shape\\_1 & 580.2931 & 93.83984 & 6.333551 & 0.1639549\\\\\n",
       "\t spatial\\_cue & shape\\_2 & 567.6826 & 98.49214 & 6.308865 & 0.1763914\\\\\n",
       "\t spatial\\_cue & shape\\_3 & 555.3805 & 94.01341 & 6.288465 & 0.1682114\\\\\n",
       "\\end{tabular}\n"
      ],
      "text/markdown": [
       "\n",
       "A data.frame: 6 × 6\n",
       "\n",
       "| condition &lt;fct&gt; | position &lt;fct&gt; | mean_rt &lt;dbl&gt; | sd_rt &lt;dbl&gt; | mean_log_rt &lt;dbl&gt; | sd_log_rt &lt;dbl&gt; |\n",
       "|---|---|---|---|---|---|\n",
       "| cueless     | shape_1 | 491.7334 | 88.80914 | 6.162241 | 0.1660219 |\n",
       "| cueless     | shape_2 | 506.5325 | 96.06230 | 6.191786 | 0.1762703 |\n",
       "| cueless     | shape_3 | 496.8226 | 87.81884 | 6.173102 | 0.1685648 |\n",
       "| spatial_cue | shape_1 | 580.2931 | 93.83984 | 6.333551 | 0.1639549 |\n",
       "| spatial_cue | shape_2 | 567.6826 | 98.49214 | 6.308865 | 0.1763914 |\n",
       "| spatial_cue | shape_3 | 555.3805 | 94.01341 | 6.288465 | 0.1682114 |\n",
       "\n"
      ],
      "text/plain": [
       "  condition   position mean_rt  sd_rt    mean_log_rt sd_log_rt\n",
       "1 cueless     shape_1  491.7334 88.80914 6.162241    0.1660219\n",
       "2 cueless     shape_2  506.5325 96.06230 6.191786    0.1762703\n",
       "3 cueless     shape_3  496.8226 87.81884 6.173102    0.1685648\n",
       "4 spatial_cue shape_1  580.2931 93.83984 6.333551    0.1639549\n",
       "5 spatial_cue shape_2  567.6826 98.49214 6.308865    0.1763914\n",
       "6 spatial_cue shape_3  555.3805 94.01341 6.288465    0.1682114"
      ]
     },
     "metadata": {},
     "output_type": "display_data"
    }
   ],
   "source": [
    "#Get descriptive statistics for position data\n",
    "online_descriptives = online_position %>%\n",
    "group_by(condition, position) %>%\n",
    "summarise(mean_rt = mean(rt), \n",
    "sd_rt = sd(rt), \n",
    "mean_log_rt = mean(log_rt), \n",
    "sd_log_rt = sd(log_rt))\n",
    "as.data.frame(online_descriptives) #ensures it retains the decimal values\n"
   ]
  },
  {
   "cell_type": "code",
   "execution_count": 134,
   "metadata": {
    "vscode": {
     "languageId": "r"
    }
   },
   "outputs": [
    {
     "name": "stderr",
     "output_type": "stream",
     "text": [
      "\u001b[1m\u001b[22m`geom_smooth()` using method = 'loess' and formula = 'y ~ x'\n",
      "\u001b[1m\u001b[22mSaving 6.67 x 6.67 in image\n",
      "\u001b[1m\u001b[22m`geom_smooth()` using method = 'loess' and formula = 'y ~ x'\n",
      "\u001b[1m\u001b[22m`geom_smooth()` using method = 'loess' and formula = 'y ~ x'\n"
     ]
    },
    {
     "data": {
      "image/png": "[encoded data removed]",
      "text/plain": [
       "plot without title"
      ]
     },
     "metadata": {
      "image/png": {
       "height": 420,
       "width": 420
      }
     },
     "output_type": "display_data"
    },
    {
     "name": "stderr",
     "output_type": "stream",
     "text": [
      "\u001b[1m\u001b[22mSaving 6.67 x 6.67 in image\n",
      "\u001b[1m\u001b[22m`geom_smooth()` using method = 'loess' and formula = 'y ~ x'\n",
      "`summarise()` has grouped output by 'block'. You can override using the `.groups` argument.\n",
      "Warning message in geom_line(se = FALSE):\n",
      "\"\u001b[1m\u001b[22mIgnoring unknown parameters: `se`\"\n"
     ]
    },
    {
     "data": {
      "image/png": "[encoded data removed]",
      "text/plain": [
       "plot without title"
      ]
     },
     "metadata": {
      "image/png": {
       "height": 420,
       "width": 420
      }
     },
     "output_type": "display_data"
    },
    {
     "name": "stderr",
     "output_type": "stream",
     "text": [
      "\u001b[1m\u001b[22mSaving 6.67 x 6.67 in image\n",
      "`summarise()` has grouped output by 'block'. You can override using the `.groups` argument.\n",
      "Warning message in geom_line(se = FALSE):\n",
      "\"\u001b[1m\u001b[22mIgnoring unknown parameters: `se`\"\n"
     ]
    },
    {
     "data": {
      "image/png": "[encoded data removed]",
      "text/plain": [
       "plot without title"
      ]
     },
     "metadata": {
      "image/png": {
       "height": 420,
       "width": 420
      }
     },
     "output_type": "display_data"
    },
    {
     "name": "stderr",
     "output_type": "stream",
     "text": [
      "\u001b[1m\u001b[22mSaving 6.67 x 6.67 in image\n",
      "`summarise()` has grouped output by 'condition'. You can override using the `.groups` argument.\n",
      "\u001b[1m\u001b[22mSaving 6.67 x 6.67 in image\n",
      "\u001b[1m\u001b[22m`geom_smooth()` using method = 'loess' and formula = 'y ~ x'\n",
      "\u001b[1m\u001b[22m`geom_smooth()` using formula = 'y ~ x'\n",
      "\u001b[1m\u001b[22m`geom_smooth()` using method = 'loess' and formula = 'y ~ x'\n",
      "\u001b[1m\u001b[22m`geom_smooth()` using formula = 'y ~ x'\n"
     ]
    },
    {
     "data": {
      "image/png": "[encoded data removed]",
      "text/plain": [
       "plot without title"
      ]
     },
     "metadata": {
      "image/png": {
       "height": 420,
       "width": 420
      }
     },
     "output_type": "display_data"
    },
    {
     "name": "stderr",
     "output_type": "stream",
     "text": [
      "\u001b[1m\u001b[22m`geom_smooth()` using formula = 'y ~ x'\n",
      "\u001b[1m\u001b[22m`geom_smooth()` using formula = 'y ~ x'\n"
     ]
    },
    {
     "data": {
      "image/png": "[encoded data removed]",
      "text/plain": [
       "plot without title"
      ]
     },
     "metadata": {
      "image/png": {
       "height": 420,
       "width": 420
      }
     },
     "output_type": "display_data"
    },
    {
     "data": {
      "text/html": [
       "<table class=\"dataframe\">\n",
       "<caption>A grouped_df: 48 × 3</caption>\n",
       "<thead>\n",
       "\t<tr><th scope=col>condition</th><th scope=col>block</th><th scope=col>OML</th></tr>\n",
       "\t<tr><th scope=col>&lt;fct&gt;</th><th scope=col>&lt;dbl&gt;</th><th scope=col>&lt;dbl&gt;</th></tr>\n",
       "</thead>\n",
       "<tbody>\n",
       "\t<tr><td>cueless    </td><td> 1</td><td>-0.0219045488</td></tr>\n",
       "\t<tr><td>cueless    </td><td> 2</td><td> 0.0012698071</td></tr>\n",
       "\t<tr><td>cueless    </td><td> 3</td><td>-0.0408922302</td></tr>\n",
       "\t<tr><td>cueless    </td><td> 4</td><td> 0.0379374524</td></tr>\n",
       "\t<tr><td>cueless    </td><td> 5</td><td>-0.0002836420</td></tr>\n",
       "\t<tr><td>cueless    </td><td> 6</td><td> 0.0558312614</td></tr>\n",
       "\t<tr><td>cueless    </td><td> 7</td><td> 0.0183881214</td></tr>\n",
       "\t<tr><td>cueless    </td><td> 8</td><td>-0.0105275588</td></tr>\n",
       "\t<tr><td>cueless    </td><td> 9</td><td>-0.0165743436</td></tr>\n",
       "\t<tr><td>cueless    </td><td>10</td><td>-0.0008326181</td></tr>\n",
       "\t<tr><td>cueless    </td><td>11</td><td>-0.0734560458</td></tr>\n",
       "\t<tr><td>cueless    </td><td>12</td><td>-0.0809352761</td></tr>\n",
       "\t<tr><td>cueless    </td><td>13</td><td> 0.0104076044</td></tr>\n",
       "\t<tr><td>cueless    </td><td>14</td><td>-0.0524009003</td></tr>\n",
       "\t<tr><td>cueless    </td><td>15</td><td>-0.0534565226</td></tr>\n",
       "\t<tr><td>cueless    </td><td>16</td><td>-0.0638640322</td></tr>\n",
       "\t<tr><td>cueless    </td><td>17</td><td>-0.1025112486</td></tr>\n",
       "\t<tr><td>cueless    </td><td>18</td><td>-0.0971843147</td></tr>\n",
       "\t<tr><td>cueless    </td><td>19</td><td> 0.0635345567</td></tr>\n",
       "\t<tr><td>cueless    </td><td>20</td><td> 0.0627143008</td></tr>\n",
       "\t<tr><td>cueless    </td><td>21</td><td> 0.0537215386</td></tr>\n",
       "\t<tr><td>cueless    </td><td>22</td><td>-0.0327672024</td></tr>\n",
       "\t<tr><td>cueless    </td><td>23</td><td>-0.0540951534</td></tr>\n",
       "\t<tr><td>cueless    </td><td>24</td><td>-0.0646768560</td></tr>\n",
       "\t<tr><td>spatial_cue</td><td> 1</td><td> 0.0686398716</td></tr>\n",
       "\t<tr><td>spatial_cue</td><td> 2</td><td> 0.0378363221</td></tr>\n",
       "\t<tr><td>spatial_cue</td><td> 3</td><td> 0.0045453457</td></tr>\n",
       "\t<tr><td>spatial_cue</td><td> 4</td><td> 0.1206070841</td></tr>\n",
       "\t<tr><td>spatial_cue</td><td> 5</td><td> 0.0699866800</td></tr>\n",
       "\t<tr><td>spatial_cue</td><td> 6</td><td> 0.0666893556</td></tr>\n",
       "\t<tr><td>spatial_cue</td><td> 7</td><td> 0.0800810611</td></tr>\n",
       "\t<tr><td>spatial_cue</td><td> 8</td><td> 0.0588502966</td></tr>\n",
       "\t<tr><td>spatial_cue</td><td> 9</td><td> 0.0237829662</td></tr>\n",
       "\t<tr><td>spatial_cue</td><td>10</td><td> 0.0043694727</td></tr>\n",
       "\t<tr><td>spatial_cue</td><td>11</td><td>-0.1119129822</td></tr>\n",
       "\t<tr><td>spatial_cue</td><td>12</td><td>-0.0733332727</td></tr>\n",
       "\t<tr><td>spatial_cue</td><td>13</td><td> 0.0439019015</td></tr>\n",
       "\t<tr><td>spatial_cue</td><td>14</td><td> 0.0014625280</td></tr>\n",
       "\t<tr><td>spatial_cue</td><td>15</td><td> 0.0468361692</td></tr>\n",
       "\t<tr><td>spatial_cue</td><td>16</td><td> 0.0108856252</td></tr>\n",
       "\t<tr><td>spatial_cue</td><td>17</td><td>-0.0004006986</td></tr>\n",
       "\t<tr><td>spatial_cue</td><td>18</td><td> 0.0085348857</td></tr>\n",
       "\t<tr><td>spatial_cue</td><td>19</td><td> 0.1610505421</td></tr>\n",
       "\t<tr><td>spatial_cue</td><td>20</td><td> 0.0865316200</td></tr>\n",
       "\t<tr><td>spatial_cue</td><td>21</td><td> 0.1029323032</td></tr>\n",
       "\t<tr><td>spatial_cue</td><td>22</td><td> 0.0522327704</td></tr>\n",
       "\t<tr><td>spatial_cue</td><td>23</td><td> 0.0065014564</td></tr>\n",
       "\t<tr><td>spatial_cue</td><td>24</td><td>-0.0114435543</td></tr>\n",
       "</tbody>\n",
       "</table>\n"
      ],
      "text/latex": [
       "A grouped\\_df: 48 × 3\n",
       "\\begin{tabular}{lll}\n",
       " condition & block & OML\\\\\n",
       " <fct> & <dbl> & <dbl>\\\\\n",
       "\\hline\n",
       "\t cueless     &  1 & -0.0219045488\\\\\n",
       "\t cueless     &  2 &  0.0012698071\\\\\n",
       "\t cueless     &  3 & -0.0408922302\\\\\n",
       "\t cueless     &  4 &  0.0379374524\\\\\n",
       "\t cueless     &  5 & -0.0002836420\\\\\n",
       "\t cueless     &  6 &  0.0558312614\\\\\n",
       "\t cueless     &  7 &  0.0183881214\\\\\n",
       "\t cueless     &  8 & -0.0105275588\\\\\n",
       "\t cueless     &  9 & -0.0165743436\\\\\n",
       "\t cueless     & 10 & -0.0008326181\\\\\n",
       "\t cueless     & 11 & -0.0734560458\\\\\n",
       "\t cueless     & 12 & -0.0809352761\\\\\n",
       "\t cueless     & 13 &  0.0104076044\\\\\n",
       "\t cueless     & 14 & -0.0524009003\\\\\n",
       "\t cueless     & 15 & -0.0534565226\\\\\n",
       "\t cueless     & 16 & -0.0638640322\\\\\n",
       "\t cueless     & 17 & -0.1025112486\\\\\n",
       "\t cueless     & 18 & -0.0971843147\\\\\n",
       "\t cueless     & 19 &  0.0635345567\\\\\n",
       "\t cueless     & 20 &  0.0627143008\\\\\n",
       "\t cueless     & 21 &  0.0537215386\\\\\n",
       "\t cueless     & 22 & -0.0327672024\\\\\n",
       "\t cueless     & 23 & -0.0540951534\\\\\n",
       "\t cueless     & 24 & -0.0646768560\\\\\n",
       "\t spatial\\_cue &  1 &  0.0686398716\\\\\n",
       "\t spatial\\_cue &  2 &  0.0378363221\\\\\n",
       "\t spatial\\_cue &  3 &  0.0045453457\\\\\n",
       "\t spatial\\_cue &  4 &  0.1206070841\\\\\n",
       "\t spatial\\_cue &  5 &  0.0699866800\\\\\n",
       "\t spatial\\_cue &  6 &  0.0666893556\\\\\n",
       "\t spatial\\_cue &  7 &  0.0800810611\\\\\n",
       "\t spatial\\_cue &  8 &  0.0588502966\\\\\n",
       "\t spatial\\_cue &  9 &  0.0237829662\\\\\n",
       "\t spatial\\_cue & 10 &  0.0043694727\\\\\n",
       "\t spatial\\_cue & 11 & -0.1119129822\\\\\n",
       "\t spatial\\_cue & 12 & -0.0733332727\\\\\n",
       "\t spatial\\_cue & 13 &  0.0439019015\\\\\n",
       "\t spatial\\_cue & 14 &  0.0014625280\\\\\n",
       "\t spatial\\_cue & 15 &  0.0468361692\\\\\n",
       "\t spatial\\_cue & 16 &  0.0108856252\\\\\n",
       "\t spatial\\_cue & 17 & -0.0004006986\\\\\n",
       "\t spatial\\_cue & 18 &  0.0085348857\\\\\n",
       "\t spatial\\_cue & 19 &  0.1610505421\\\\\n",
       "\t spatial\\_cue & 20 &  0.0865316200\\\\\n",
       "\t spatial\\_cue & 21 &  0.1029323032\\\\\n",
       "\t spatial\\_cue & 22 &  0.0522327704\\\\\n",
       "\t spatial\\_cue & 23 &  0.0065014564\\\\\n",
       "\t spatial\\_cue & 24 & -0.0114435543\\\\\n",
       "\\end{tabular}\n"
      ],
      "text/markdown": [
       "\n",
       "A grouped_df: 48 × 3\n",
       "\n",
       "| condition &lt;fct&gt; | block &lt;dbl&gt; | OML &lt;dbl&gt; |\n",
       "|---|---|---|\n",
       "| cueless     |  1 | -0.0219045488 |\n",
       "| cueless     |  2 |  0.0012698071 |\n",
       "| cueless     |  3 | -0.0408922302 |\n",
       "| cueless     |  4 |  0.0379374524 |\n",
       "| cueless     |  5 | -0.0002836420 |\n",
       "| cueless     |  6 |  0.0558312614 |\n",
       "| cueless     |  7 |  0.0183881214 |\n",
       "| cueless     |  8 | -0.0105275588 |\n",
       "| cueless     |  9 | -0.0165743436 |\n",
       "| cueless     | 10 | -0.0008326181 |\n",
       "| cueless     | 11 | -0.0734560458 |\n",
       "| cueless     | 12 | -0.0809352761 |\n",
       "| cueless     | 13 |  0.0104076044 |\n",
       "| cueless     | 14 | -0.0524009003 |\n",
       "| cueless     | 15 | -0.0534565226 |\n",
       "| cueless     | 16 | -0.0638640322 |\n",
       "| cueless     | 17 | -0.1025112486 |\n",
       "| cueless     | 18 | -0.0971843147 |\n",
       "| cueless     | 19 |  0.0635345567 |\n",
       "| cueless     | 20 |  0.0627143008 |\n",
       "| cueless     | 21 |  0.0537215386 |\n",
       "| cueless     | 22 | -0.0327672024 |\n",
       "| cueless     | 23 | -0.0540951534 |\n",
       "| cueless     | 24 | -0.0646768560 |\n",
       "| spatial_cue |  1 |  0.0686398716 |\n",
       "| spatial_cue |  2 |  0.0378363221 |\n",
       "| spatial_cue |  3 |  0.0045453457 |\n",
       "| spatial_cue |  4 |  0.1206070841 |\n",
       "| spatial_cue |  5 |  0.0699866800 |\n",
       "| spatial_cue |  6 |  0.0666893556 |\n",
       "| spatial_cue |  7 |  0.0800810611 |\n",
       "| spatial_cue |  8 |  0.0588502966 |\n",
       "| spatial_cue |  9 |  0.0237829662 |\n",
       "| spatial_cue | 10 |  0.0043694727 |\n",
       "| spatial_cue | 11 | -0.1119129822 |\n",
       "| spatial_cue | 12 | -0.0733332727 |\n",
       "| spatial_cue | 13 |  0.0439019015 |\n",
       "| spatial_cue | 14 |  0.0014625280 |\n",
       "| spatial_cue | 15 |  0.0468361692 |\n",
       "| spatial_cue | 16 |  0.0108856252 |\n",
       "| spatial_cue | 17 | -0.0004006986 |\n",
       "| spatial_cue | 18 |  0.0085348857 |\n",
       "| spatial_cue | 19 |  0.1610505421 |\n",
       "| spatial_cue | 20 |  0.0865316200 |\n",
       "| spatial_cue | 21 |  0.1029323032 |\n",
       "| spatial_cue | 22 |  0.0522327704 |\n",
       "| spatial_cue | 23 |  0.0065014564 |\n",
       "| spatial_cue | 24 | -0.0114435543 |\n",
       "\n"
      ],
      "text/plain": [
       "   condition   block OML          \n",
       "1  cueless      1    -0.0219045488\n",
       "2  cueless      2     0.0012698071\n",
       "3  cueless      3    -0.0408922302\n",
       "4  cueless      4     0.0379374524\n",
       "5  cueless      5    -0.0002836420\n",
       "6  cueless      6     0.0558312614\n",
       "7  cueless      7     0.0183881214\n",
       "8  cueless      8    -0.0105275588\n",
       "9  cueless      9    -0.0165743436\n",
       "10 cueless     10    -0.0008326181\n",
       "11 cueless     11    -0.0734560458\n",
       "12 cueless     12    -0.0809352761\n",
       "13 cueless     13     0.0104076044\n",
       "14 cueless     14    -0.0524009003\n",
       "15 cueless     15    -0.0534565226\n",
       "16 cueless     16    -0.0638640322\n",
       "17 cueless     17    -0.1025112486\n",
       "18 cueless     18    -0.0971843147\n",
       "19 cueless     19     0.0635345567\n",
       "20 cueless     20     0.0627143008\n",
       "21 cueless     21     0.0537215386\n",
       "22 cueless     22    -0.0327672024\n",
       "23 cueless     23    -0.0540951534\n",
       "24 cueless     24    -0.0646768560\n",
       "25 spatial_cue  1     0.0686398716\n",
       "26 spatial_cue  2     0.0378363221\n",
       "27 spatial_cue  3     0.0045453457\n",
       "28 spatial_cue  4     0.1206070841\n",
       "29 spatial_cue  5     0.0699866800\n",
       "30 spatial_cue  6     0.0666893556\n",
       "31 spatial_cue  7     0.0800810611\n",
       "32 spatial_cue  8     0.0588502966\n",
       "33 spatial_cue  9     0.0237829662\n",
       "34 spatial_cue 10     0.0043694727\n",
       "35 spatial_cue 11    -0.1119129822\n",
       "36 spatial_cue 12    -0.0733332727\n",
       "37 spatial_cue 13     0.0439019015\n",
       "38 spatial_cue 14     0.0014625280\n",
       "39 spatial_cue 15     0.0468361692\n",
       "40 spatial_cue 16     0.0108856252\n",
       "41 spatial_cue 17    -0.0004006986\n",
       "42 spatial_cue 18     0.0085348857\n",
       "43 spatial_cue 19     0.1610505421\n",
       "44 spatial_cue 20     0.0865316200\n",
       "45 spatial_cue 21     0.1029323032\n",
       "46 spatial_cue 22     0.0522327704\n",
       "47 spatial_cue 23     0.0065014564\n",
       "48 spatial_cue 24    -0.0114435543"
      ]
     },
     "metadata": {},
     "output_type": "display_data"
    },
    {
     "data": {
      "image/png": "[encoded data removed]",
      "text/plain": [
       "plot without title"
      ]
     },
     "metadata": {
      "image/png": {
       "height": 420,
       "width": 420
      }
     },
     "output_type": "display_data"
    }
   ],
   "source": [
    "#Set titles to be centered automatically \n",
    "theme_update(plot.title = element_text(hjust = 0.5))\n",
    "\n",
    "#make a smoothed conditional graphs graph of the log rts for the unpredictable shapes by condition \n",
    "# ggplot(online_position, aes(x = block, y = log_rt, colour = position, by = condition)) + geom_smooth(se = FALSE) #smooth makes the graph easier to view\n",
    "ggplot(online_position_cueless, aes(x = block, y = log_rt, colour = position)) + \n",
    "    geom_smooth(se = FALSE) + #smooth makes the graph easier to view\n",
    "    labs(x = \"Block\", y = \"Log RT\") + \n",
    "    scale_colour_discrete(name = \"Position\", labels = c(\"1\", \"2\", \"3\")) +\n",
    "    ggtitle(\"No cue\") \n",
    "ggsave(r\"(C:\\Users\\invate\\OneDrive\\Documents\\Nottingham Trent Work\\Project lab\\Analysis\\Graphs\\Cueless_position_smoothed.png)\")\n",
    "\n",
    "ggplot(online_position_spatial_cue, aes(x = block, y = log_rt, colour = position)) + \n",
    "    geom_smooth(se = FALSE) + \n",
    "    labs(x = \"Block\", y = \"Log RT\") + \n",
    "    scale_colour_discrete(name = \"Position\", labels = c(\"1\", \"2\",\"3\")) +\n",
    "    ggtitle(\"Spatial cue\") \n",
    "\n",
    "ggsave(r\"(C:\\Users\\invate\\OneDrive\\Documents\\Nottingham Trent Work\\Project lab\\Analysis\\Graphs\\Spatial_cue_position_smoothed.png)\")\n",
    "\n",
    "\n",
    "\n",
    "#make line graphs\n",
    "online_position_cueless_line <- online_position_cueless %>% group_by(block, position) %>% summarise(mean = mean(log_rt)) \n",
    "ggplot(online_position_cueless_line, aes(x = block, y = mean, colour = position)) +\n",
    "    geom_line(se = FALSE) + \n",
    "    labs(x = \"Block\", y = \"Log RT\") + \n",
    "    scale_colour_discrete(name = \"Position\", labels = c(\"1\", \"2\",\"3\")) +\n",
    "    ggtitle(\"No cue\") \n",
    "ggsave(r\"(C:\\Users\\invate\\OneDrive\\Documents\\Nottingham Trent Work\\Project lab\\Analysis\\Graphs\\)Cueless_position.png)\")\n",
    "\n",
    "online_position_spatial_cue_line <- online_position_spatial_cue %>% group_by(block, position) %>% summarise(mean = mean(log_rt)) \n",
    "ggplot(online_position_spatial_cue_line, aes(x = block, y = mean, colour = position)) + \n",
    "    geom_line(se = FALSE) + \n",
    "    labs(x = \"Block\", y = \"Log RT\") + \n",
    "    scale_colour_discrete(name = \"Position\", labels = c(\"1\", \"2\",\"3\")) +\n",
    "    ggtitle(\"Spatial-cue\") \n",
    "ggsave(r\"(C:\\Users\\invate\\OneDrive\\Documents\\Nottingham Trent Work\\Project lab\\Analysis\\Graphs\\Spatial_cue_position.png)\")\n",
    "\n",
    "# #make a line graph of the OML scores \n",
    "# OML_graph = ggplot(online_OML, aes(x = block, y = OML, colour = condition)\n",
    "# ) + geom_smooth(se = FALSE) + labs(x = \"Block\", y = \"Onlne Measure of Learning\") + scale_colour_discrete(name = \"Condition\", labels = c(\"No cue\", \"Spatial cue\"))\n",
    "\n",
    "# ggsave(r\"(C:\\Users\\invate\\OneDrive\\Documents\\Nottingham Trent Work\\Project lab\\Analysis\\Graphs\\OML_graph.png)\")\n",
    "# print(OML_graph)\n",
    "\n",
    "#make smoothed graph of OML scores by condition \n",
    "online_OML_forgraph <- online_OML_forlm %>% group_by(condition, block) %>% summarise(OML = mean(OML))\n",
    "OML_graph_lm_smoothed = ggplot(online_OML_forlm, aes(x = block, y = OML, colour = condition)) + \n",
    "    geom_smooth(se = FALSE) + labs(x = \"Block\", y = \"Onlne Measure of Learning\") + \n",
    "    scale_colour_discrete(name = \"Condition\", labels = c(\"No-cue\", \"Spatial-cue\"))  + \n",
    "    geom_smooth(se = FALSE, method = \"lm\", linetype = \"dashed\")\n",
    "    \n",
    "\n",
    "ggsave(r\"(C:\\Users\\invate\\OneDrive\\Documents\\Nottingham Trent Work\\Project lab\\Analysis\\Graphs\\OML_graph_lm_smoothed.png)\")\n",
    "print(OML_graph_lm_smoothed)\n",
    "\n",
    "\n",
    "#linegraph version\n",
    "\n",
    "OML_graph_lm_line = ggplot(online_OML_forgraph, aes(x = block, y = OML, colour = condition)\n",
    ") + geom_line() + labs(x = \"Block\", y = \"Onlne Measure of Learning\") + scale_colour_discrete(name = \"Condition\", labels = c(\"No-cue\", \"Spatial-cue\")\n",
    ") + geom_smooth(se = FALSE, method = \"lm\", linetype = \"dashed\") #+ geom_point()\n",
    "ggsave(r\"(C:\\Users\\invate\\OneDrive\\Documents\\Nottingham Trent Work\\Project lab\\Analysis\\Graphs\\OML_graph_lm_line.png)\", units = c(\"cm\"), height = 15, width = 15)\n",
    "print(OML_graph_lm_line)\n",
    "\n",
    "\n",
    "View(online_OML_forgraph)\n",
    "\n",
    "\n"
   ]
  },
  {
   "cell_type": "code",
   "execution_count": 135,
   "metadata": {
    "vscode": {
     "languageId": "r"
    }
   },
   "outputs": [],
   "source": [
    "# #test for for error bars\n",
    "\n",
    "# #TODO: need to go back to git backup to get code prior to mistakenly deleting this bit \n",
    "\n",
    "# plot <- ggplot(online_OML_forlm, aes(x = block, y = OML,  colour = condition)) + geom_line() +geom_errorbar(data = bars, aes(ymin = mean-sd, ymax = mean+sd)) + geom_point()\n",
    "# print(plot)\n",
    "# str(online_OML_forgraph)\n",
    "# OML_graph_lm_line = ggplot(online_OML_forgraph, aes(x = block, y = OML, colour = condition)\n",
    "# ) + geom_line() + labs(x = \"Block\", y = \"Onlne Measure of Learning\") + scale_colour_discrete(name = \"Condition\", labels = c(\"No cue\", \"Spatial cue\") \n",
    "# ) + geom_smooth(se = FALSE, method = \"lm\", linetype = \"dashed\") +geom_errorbar(data = online_OML_forgraph, aes(ymin = OML-sd, ymax = OML+sd))\n",
    "# print(OML_graph_lm_line)\n"
   ]
  },
  {
   "cell_type": "markdown",
   "metadata": {},
   "source": [
    "## Analyses \n",
    "### Position data\n",
    "#### ANOVAs"
   ]
  },
  {
   "cell_type": "code",
   "execution_count": 136,
   "metadata": {
    "vscode": {
     "languageId": "r"
    }
   },
   "outputs": [
    {
     "name": "stdout",
     "output_type": "stream",
     "text": [
      "[1] \"Combined Position ANOVA---------------------------------------------------------------------------------------------------------------------------\"\n"
     ]
    },
    {
     "name": "stderr",
     "output_type": "stream",
     "text": [
      "Warning message:\n",
      "\"Data is unbalanced (unequal N per group). Make sure you specified a well-considered value for the type argument to ezANOVA().\"\n",
      "Warning message:\n",
      "\"Collapsing data to cell means. *IF* the requested effects are a subset of the full design, you must use the \"within_full\" argument, else results may be inaccurate.\"\n"
     ]
    },
    {
     "data": {
      "text/plain": [
       "$ANOVA\n",
       "              Effect DFn DFd          SSn        SSd            F            p\n",
       "1        (Intercept)   1  50 5.999572e+03 1.88669820 1.589966e+05 3.065419e-89\n",
       "2          condition   1  50 7.029606e-01 1.88669820 1.862939e+01 7.495315e-05\n",
       "3           position   2 100 1.196080e-02 0.06309753 9.478026e+00 1.700877e-04\n",
       "4 condition:position   2 100 2.872147e-02 0.06309753 2.275958e+01 7.144796e-09\n",
       "  p<.05         ges\n",
       "1     * 0.999675116\n",
       "2     * 0.264992526\n",
       "3     * 0.006096985\n",
       "4     * 0.014516665\n",
       "\n",
       "$`Mauchly's Test for Sphericity`\n",
       "              Effect         W         p p<.05\n",
       "3           position 0.9846085 0.6838448      \n",
       "4 condition:position 0.9846085 0.6838448      \n",
       "\n",
       "$`Sphericity Corrections`\n",
       "              Effect       GGe        p[GG] p[GG]<.05      HFe        p[HF]\n",
       "3           position 0.9848418 1.860664e-04         * 1.024914 1.700877e-04\n",
       "4 condition:position 0.9848418 9.020740e-09         * 1.024914 7.144796e-09\n",
       "  p[HF]<.05\n",
       "3         *\n",
       "4         *\n",
       "\n",
       "$aov\n",
       "\n",
       "Call:\n",
       "aov(formula = formula(aov_formula), data = data)\n",
       "\n",
       "Grand Mean: 6.251012\n",
       "\n",
       "Stratum 1: id\n",
       "\n",
       "Terms:\n",
       "                condition Residuals\n",
       "Sum of Squares  0.7029606 1.8866982\n",
       "Deg. of Freedom         1        50\n",
       "\n",
       "Residual standard error: 0.1942523\n",
       "2 out of 3 effects not estimable\n",
       "Estimated effects are balanced\n",
       "\n",
       "Stratum 2: id:position\n",
       "\n",
       "Terms:\n",
       "                  position condition:position  Residuals\n",
       "Sum of Squares  0.01435744         0.02872147 0.06309753\n",
       "Deg. of Freedom          2                  2        100\n",
       "\n",
       "Residual standard error: 0.02511922\n",
       "Estimated effects may be unbalanced\n"
      ]
     },
     "metadata": {},
     "output_type": "display_data"
    }
   ],
   "source": [
    "# #[ANOVA_model] <- aov([outcome_variable] ~ [condition] + Error(id/[condition]), data = [data])\n",
    "\n",
    "# print(\"Cueless Position ANOVA---------------------------------------------------------------------------------------------------------------------------\")\n",
    "\n",
    "# ez_anova(data = online_position_cueless, dv = log_rt, wid = id, within = position, type = 3, detailed = TRUE, return_aov = TRUE)\n",
    "\n",
    "# #summary(position_cueless_model)\n",
    "# print(\"Spatial_cue Position ANOVA---------------------------------------------------------------------------------------------------------------------------\")\n",
    "# ez_anova(data = online_position_spatial_cue, dv = log_rt, wid = id, within = position, type = 3, detailed = TRUE, return_aov = TRUE)\n",
    "\n",
    "print(\"Combined Position ANOVA---------------------------------------------------------------------------------------------------------------------------\")\n",
    "ez_anova(data = online_position, dv = log_rt, wid = id, within = position, between = condition, type = 3, detailed = TRUE, return_aov = TRUE)\n",
    "\n",
    "\n"
   ]
  },
  {
   "cell_type": "code",
   "execution_count": 137,
   "metadata": {
    "vscode": {
     "languageId": "r"
    }
   },
   "outputs": [
    {
     "name": "stderr",
     "output_type": "stream",
     "text": [
      "Note: re-fitting model with sum-to-zero contrasts\n",
      "\n",
      "NOTE: Results are based on intra-block estimates and are biased.\n",
      "\n"
     ]
    },
    {
     "name": "stdout",
     "output_type": "stream",
     "text": [
      "$emmeans\n",
      "condition = cueless:\n",
      " position emmean     SE   df lower.CL upper.CL\n",
      " shape_1    6.18 0.0210 50.0     6.14     6.22\n",
      " shape_2    6.21 0.0210 50.0     6.17     6.25\n",
      " shape_3    6.19 0.0210 50.0     6.15     6.24\n",
      "\n",
      "condition = spatial_cue:\n",
      " position emmean     SE   df lower.CL upper.CL\n",
      " shape_1    6.33 0.0209 49.2     6.29     6.37\n",
      " shape_2    6.30 0.0209 49.1     6.26     6.35\n",
      " shape_3    6.28 0.0209 49.1     6.24     6.33\n",
      "\n",
      "Warning: EMMs are biased unless design is perfectly balanced \n",
      "Confidence level used: 0.95 \n",
      "\n",
      "$contrasts\n",
      "condition = cueless:\n",
      " contrast          estimate      SE  df t.ratio p.value\n",
      " shape_1 - shape_2  -0.0306 0.00742 100  -4.121  0.0002\n",
      " shape_1 - shape_3  -0.0120 0.00741 100  -1.621  0.3247\n",
      " shape_2 - shape_3   0.0185 0.00741 100   2.504  0.0417\n",
      "\n",
      "condition = spatial_cue:\n",
      " contrast          estimate      SE  df t.ratio p.value\n",
      " shape_1 - shape_2   0.0262 0.00657 100   3.979  0.0004\n",
      " shape_1 - shape_3   0.0469 0.00657 100   7.141  <.0001\n",
      " shape_2 - shape_3   0.0208 0.00656 100   3.169  0.0061\n",
      "\n",
      "P value adjustment: bonferroni method for 3 tests \n",
      "\n"
     ]
    }
   ],
   "source": [
    "\n",
    "#bonferoni corrections\n",
    "int_model_plot = aov(log_rt ~ position*condition+Error(id/position), data = online_position)\n",
    "\n",
    "\n",
    "fixed <- emmeans(int_model_plot, specs = pairwise ~ position | condition , adjust = \"bonf\",) #must assign to variable to get it to work with Juepyter \n",
    "print(fixed)\n",
    "\n",
    "\n"
   ]
  },
  {
   "cell_type": "code",
   "execution_count": 138,
   "metadata": {
    "vscode": {
     "languageId": "r"
    }
   },
   "outputs": [
    {
     "name": "stderr",
     "output_type": "stream",
     "text": [
      "Note: re-fitting model with sum-to-zero contrasts\n",
      "\n",
      "NOTE: Results are based on intra-block estimates and are biased.\n",
      "\n",
      "Note: re-fitting model with sum-to-zero contrasts\n",
      "\n",
      "NOTE: Results are based on intra-block estimates and are biased.\n",
      "\n"
     ]
    },
    {
     "data": {
      "image/png": "[encoded data removed]",
      "text/plain": [
       "plot without title"
      ]
     },
     "metadata": {
      "image/png": {
       "height": 420,
       "width": 420
      }
     },
     "output_type": "display_data"
    },
    {
     "data": {
      "image/png": "[encoded data removed]",
      "text/plain": [
       "plot without title"
      ]
     },
     "metadata": {
      "image/png": {
       "height": 420,
       "width": 420
      }
     },
     "output_type": "display_data"
    }
   ],
   "source": [
    "#plot interaction (grey scale)\n",
    "int_plot <- emmip(int_model_plot, condition ~ position, CIs= TRUE, ylab = \"Estimated Marginal Means\")\n",
    "int_plot + aes(linetype = condition) + scale_color_grey(start = 0, end = 0) + labs(x = \"Position\") \n",
    "\n",
    "\n",
    "#plot interaction (with colour)\n",
    "int_plot <- emmip(int_model_plot, condition ~ position, CIs= TRUE, ylab = \"Estimated Marginal Means\")\n",
    "int_plot + labs(x = \"Position\", color = \"Condition\", linetype = \"Condition\") +\n",
    "scale_color_discrete(name = \"Condition\", labels = c(\"No-cue\", \"Spatial-cue\")) +\n",
    "scale_x_discrete(name = \"Position\", labels = c(\"1\", \"2\",\"3\"))\n",
    "\n",
    "ggsave(r\"(C:\\Users\\invate\\OneDrive\\Documents\\Nottingham Trent Work\\Project lab\\Analysis\\Graphs\\Positio_ANOVA_colour.png)\", units = c(\"cm\"), height = 15, width = 15)\n"
   ]
  },
  {
   "attachments": {},
   "cell_type": "markdown",
   "metadata": {},
   "source": [
    "##### Wilcox tests\n",
    "\n",
    "Commented out to prevent rstatix breaking the shapiro_wilks tests"
   ]
  },
  {
   "cell_type": "code",
   "execution_count": 139,
   "metadata": {
    "vscode": {
     "languageId": "r"
    }
   },
   "outputs": [],
   "source": [
    "# library(rstatix)\n",
    "\n",
    "# test_data <- subset(online_position_cueless, subset=online_position_cueless$id != 7678918)\n",
    "# test_data <- droplevels(test_data)\n",
    "\n",
    "# test <- test_data %>% wilcox_test(log_rt ~ position, paired = TRUE, p.adjust.method = \"bonferroni\")\n",
    "# print(test)\n"
   ]
  },
  {
   "attachments": {},
   "cell_type": "markdown",
   "metadata": {},
   "source": [
    "#### Assumptions\n",
    "\n"
   ]
  },
  {
   "cell_type": "code",
   "execution_count": 140,
   "metadata": {
    "vscode": {
     "languageId": "r"
    }
   },
   "outputs": [
    {
     "name": "stderr",
     "output_type": "stream",
     "text": [
      "Warning message:\n",
      "\"More than one observation per design cell, aggregating data using `fun_aggregate = mean`.\n",
      "To turn off this warning, pass `fun_aggregate = mean` explicitly.\"\n",
      "Contrasts set to contr.sum for the following variables: condition\n",
      "\n"
     ]
    }
   ],
   "source": [
    "library(MASS)\n",
    "res_model.aov = aov(log_rt ~ position*condition + Error(id/position), data = online_position, qr = T)\n",
    "\n",
    "# res_model <- aov(OML ~ condition*block, data = online_OML, qr = T)\n",
    "# res_data <- mutate(online_OML, residuals(res_model))\n",
    "\n",
    "\n",
    "\n",
    "\n",
    "#alternative way to access residuals\n",
    "library(afex)\n",
    "res_model <- aov_ez(data = online_position, id = \"id\", dv = \"log_rt\", within = \"position\", between = \"condition\")\n",
    " \n",
    "res_data = predict(res_model, online_position, append = TRUE, colname_predict = \"residuals\")"
   ]
  },
  {
   "attachments": {},
   "cell_type": "markdown",
   "metadata": {},
   "source": [
    "##### Normality\n"
   ]
  },
  {
   "cell_type": "code",
   "execution_count": 141,
   "metadata": {
    "vscode": {
     "languageId": "r"
    }
   },
   "outputs": [
    {
     "data": {
      "text/html": [
       "<table class=\"dataframe\">\n",
       "<caption>A tibble: 2 × 3</caption>\n",
       "<thead>\n",
       "\t<tr><th scope=col>condition</th><th scope=col>statistic</th><th scope=col>p_value</th></tr>\n",
       "\t<tr><th scope=col>&lt;fct&gt;</th><th scope=col>&lt;dbl&gt;</th><th scope=col>&lt;dbl&gt;</th></tr>\n",
       "</thead>\n",
       "<tbody>\n",
       "\t<tr><td>cueless    </td><td>0.9885362</td><td>4.687062e-10</td></tr>\n",
       "\t<tr><td>spatial_cue</td><td>0.9984174</td><td>4.549779e-02</td></tr>\n",
       "</tbody>\n",
       "</table>\n"
      ],
      "text/latex": [
       "A tibble: 2 × 3\n",
       "\\begin{tabular}{lll}\n",
       " condition & statistic & p\\_value\\\\\n",
       " <fct> & <dbl> & <dbl>\\\\\n",
       "\\hline\n",
       "\t cueless     & 0.9885362 & 4.687062e-10\\\\\n",
       "\t spatial\\_cue & 0.9984174 & 4.549779e-02\\\\\n",
       "\\end{tabular}\n"
      ],
      "text/markdown": [
       "\n",
       "A tibble: 2 × 3\n",
       "\n",
       "| condition &lt;fct&gt; | statistic &lt;dbl&gt; | p_value &lt;dbl&gt; |\n",
       "|---|---|---|\n",
       "| cueless     | 0.9885362 | 4.687062e-10 |\n",
       "| spatial_cue | 0.9984174 | 4.549779e-02 |\n",
       "\n"
      ],
      "text/plain": [
       "  condition   statistic p_value     \n",
       "1 cueless     0.9885362 4.687062e-10\n",
       "2 spatial_cue 0.9984174 4.549779e-02"
      ]
     },
     "metadata": {},
     "output_type": "display_data"
    },
    {
     "name": "stdout",
     "output_type": "stream",
     "text": [
      "[1] \"Skew and kurtosis:\"\n"
     ]
    },
    {
     "data": {
      "text/html": [
       "<table class=\"dataframe\">\n",
       "<caption>A tibble: 2 × 3</caption>\n",
       "<thead>\n",
       "\t<tr><th scope=col>condition</th><th scope=col>skew</th><th scope=col>kurt</th></tr>\n",
       "\t<tr><th scope=col>&lt;fct&gt;</th><th scope=col>&lt;dbl&gt;</th><th scope=col>&lt;dbl&gt;</th></tr>\n",
       "</thead>\n",
       "<tbody>\n",
       "\t<tr><td>cueless    </td><td>0.2531485</td><td>1.500425</td></tr>\n",
       "\t<tr><td>spatial_cue</td><td>0.1381395</td><td>1.504123</td></tr>\n",
       "</tbody>\n",
       "</table>\n"
      ],
      "text/latex": [
       "A tibble: 2 × 3\n",
       "\\begin{tabular}{lll}\n",
       " condition & skew & kurt\\\\\n",
       " <fct> & <dbl> & <dbl>\\\\\n",
       "\\hline\n",
       "\t cueless     & 0.2531485 & 1.500425\\\\\n",
       "\t spatial\\_cue & 0.1381395 & 1.504123\\\\\n",
       "\\end{tabular}\n"
      ],
      "text/markdown": [
       "\n",
       "A tibble: 2 × 3\n",
       "\n",
       "| condition &lt;fct&gt; | skew &lt;dbl&gt; | kurt &lt;dbl&gt; |\n",
       "|---|---|---|\n",
       "| cueless     | 0.2531485 | 1.500425 |\n",
       "| spatial_cue | 0.1381395 | 1.504123 |\n",
       "\n"
      ],
      "text/plain": [
       "  condition   skew      kurt    \n",
       "1 cueless     0.2531485 1.500425\n",
       "2 spatial_cue 0.1381395 1.504123"
      ]
     },
     "metadata": {},
     "output_type": "display_data"
    },
    {
     "data": {
      "image/png": "[encoded data removed]",
      "text/plain": [
       "Plot with title \"\""
      ]
     },
     "metadata": {
      "image/png": {
       "height": 420,
       "width": 420
      }
     },
     "output_type": "display_data"
    },
    {
     "data": {
      "image/png": "[encoded data removed]",
      "text/plain": [
       "Plot with title \"Normal Q-Q Plot\""
      ]
     },
     "metadata": {
      "image/png": {
       "height": 420,
       "width": 420
      }
     },
     "output_type": "display_data"
    }
   ],
   "source": [
    "\n",
    "#shapiro wilks test \n",
    "shapiro_test(y = log_rt, by = condition, data = online_position)\n",
    "\n",
    "#access skew & kurtosis \n",
    "print(\"Skew and kurtosis:\")\n",
    "describe(res_data, by = condition, skew = moments::skewness(residuals), kurt = moments::kurtosis((residuals)))\n",
    "\n",
    "test <-aov(log_rt ~ position*condition, data = online_position) \n",
    "plot(test, which = 2)\n",
    "\n",
    "\n",
    "\n",
    "res.proj <- proj(res_model.aov)\n",
    "qqnorm(res.proj[[4]][,\"Residuals\"])\n",
    "qqline(res.proj[[4]][,\"Residuals\"])\n",
    "#res_data = mutate(online_position, residuals = resid(res_model.aov[[4]]))\n",
    "\n",
    "#more detailed descriptivevs\n",
    "# if(!require('pastecs')) {\n",
    "#   install.packages('pastecs')\n",
    "#   library('pastecs')\n",
    "# }\n",
    "\n",
    "# stat.desc(res_data, norm = T)"
   ]
  },
  {
   "attachments": {},
   "cell_type": "markdown",
   "metadata": {},
   "source": [
    "##### Independence "
   ]
  },
  {
   "cell_type": "code",
   "execution_count": 142,
   "metadata": {
    "vscode": {
     "languageId": "r"
    }
   },
   "outputs": [
    {
     "name": "stderr",
     "output_type": "stream",
     "text": [
      "Data was changed during ANOVA calculation. Thus, residuals cannot be added to original data.\n",
      "residuals(..., append = TRUE) will return data and residuals.\n",
      "\n"
     ]
    },
    {
     "data": {
      "image/png": "[encoded data removed]",
      "text/plain": [
       "plot without title"
      ]
     },
     "metadata": {
      "image/png": {
       "height": 420,
       "width": 420
      }
     },
     "output_type": "display_data"
    }
   ],
   "source": [
    "#scatterplot(data = res_data, y = residuals, x = id, best_fit_line = TRUE) -broken for some reason\n",
    "plot(residuals(res_model), type = \"b\", xlim = c(1000,1100))"
   ]
  },
  {
   "attachments": {},
   "cell_type": "markdown",
   "metadata": {},
   "source": [
    "##### Linearity"
   ]
  },
  {
   "cell_type": "code",
   "execution_count": 143,
   "metadata": {
    "vscode": {
     "languageId": "r"
    }
   },
   "outputs": [
    {
     "data": {
      "image/png": "[encoded data removed]",
      "text/plain": [
       "Plot with title \"\""
      ]
     },
     "metadata": {
      "image/png": {
       "height": 420,
       "width": 420
      }
     },
     "output_type": "display_data"
    },
    {
     "data": {
      "image/png": "[encoded data removed]",
      "text/plain": [
       "Plot with title \"\""
      ]
     },
     "metadata": {
      "image/png": {
       "height": 420,
       "width": 420
      }
     },
     "output_type": "display_data"
    }
   ],
   "source": [
    "\n",
    "plot(test, which= 1)\n",
    "plot(test, which= 3)"
   ]
  },
  {
   "attachments": {},
   "cell_type": "markdown",
   "metadata": {},
   "source": [
    "##### Equality of variance\n",
    "\n",
    "Used to assess whether variance is equal between groups"
   ]
  },
  {
   "cell_type": "code",
   "execution_count": 144,
   "metadata": {
    "vscode": {
     "languageId": "r"
    }
   },
   "outputs": [
    {
     "data": {
      "text/html": [
       "<table class=\"dataframe\">\n",
       "<caption>A anova: 2 × 3</caption>\n",
       "<thead>\n",
       "\t<tr><th></th><th scope=col>Df</th><th scope=col>F value</th><th scope=col>Pr(&gt;F)</th></tr>\n",
       "\t<tr><th></th><th scope=col>&lt;int&gt;</th><th scope=col>&lt;dbl&gt;</th><th scope=col>&lt;dbl&gt;</th></tr>\n",
       "</thead>\n",
       "<tbody>\n",
       "\t<tr><th scope=row>group</th><td>   1</td><td>2.826919</td><td>0.09295155</td></tr>\n",
       "\t<tr><th scope=row> </th><td>1222</td><td>      NA</td><td>        NA</td></tr>\n",
       "</tbody>\n",
       "</table>\n"
      ],
      "text/latex": [
       "A anova: 2 × 3\n",
       "\\begin{tabular}{r|lll}\n",
       "  & Df & F value & Pr(>F)\\\\\n",
       "  & <int> & <dbl> & <dbl>\\\\\n",
       "\\hline\n",
       "\tgroup &    1 & 2.826919 & 0.09295155\\\\\n",
       "\t  & 1222 &       NA &         NA\\\\\n",
       "\\end{tabular}\n"
      ],
      "text/markdown": [
       "\n",
       "A anova: 2 × 3\n",
       "\n",
       "| <!--/--> | Df &lt;int&gt; | F value &lt;dbl&gt; | Pr(&gt;F) &lt;dbl&gt; |\n",
       "|---|---|---|---|\n",
       "| group |    1 | 2.826919 | 0.09295155 |\n",
       "| <!----> | 1222 |       NA |         NA |\n",
       "\n"
      ],
      "text/plain": [
       "      Df   F value  Pr(>F)    \n",
       "group    1 2.826919 0.09295155\n",
       "      1222       NA         NA"
      ]
     },
     "metadata": {},
     "output_type": "display_data"
    },
    {
     "data": {
      "text/html": [
       "<table class=\"dataframe\">\n",
       "<caption>A anova: 2 × 3</caption>\n",
       "<thead>\n",
       "\t<tr><th></th><th scope=col>Df</th><th scope=col>F value</th><th scope=col>Pr(&gt;F)</th></tr>\n",
       "\t<tr><th></th><th scope=col>&lt;int&gt;</th><th scope=col>&lt;dbl&gt;</th><th scope=col>&lt;dbl&gt;</th></tr>\n",
       "</thead>\n",
       "<tbody>\n",
       "\t<tr><th scope=row>group</th><td>   1</td><td>0.8383088</td><td>0.3599405</td></tr>\n",
       "\t<tr><th scope=row> </th><td>3705</td><td>       NA</td><td>       NA</td></tr>\n",
       "</tbody>\n",
       "</table>\n"
      ],
      "text/latex": [
       "A anova: 2 × 3\n",
       "\\begin{tabular}{r|lll}\n",
       "  & Df & F value & Pr(>F)\\\\\n",
       "  & <int> & <dbl> & <dbl>\\\\\n",
       "\\hline\n",
       "\tgroup &    1 & 0.8383088 & 0.3599405\\\\\n",
       "\t  & 3705 &        NA &        NA\\\\\n",
       "\\end{tabular}\n"
      ],
      "text/markdown": [
       "\n",
       "A anova: 2 × 3\n",
       "\n",
       "| <!--/--> | Df &lt;int&gt; | F value &lt;dbl&gt; | Pr(&gt;F) &lt;dbl&gt; |\n",
       "|---|---|---|---|\n",
       "| group |    1 | 0.8383088 | 0.3599405 |\n",
       "| <!----> | 3705 |        NA |        NA |\n",
       "\n"
      ],
      "text/plain": [
       "      Df   F value   Pr(>F)   \n",
       "group    1 0.8383088 0.3599405\n",
       "      3705        NA        NA"
      ]
     },
     "metadata": {},
     "output_type": "display_data"
    },
    {
     "data": {
      "image/png": "[encoded data removed]",
      "text/plain": [
       "plot without title"
      ]
     },
     "metadata": {
      "image/png": {
       "height": 420,
       "width": 420
      }
     },
     "output_type": "display_data"
    }
   ],
   "source": [
    "library(car)\n",
    "\n",
    "\n",
    "leveneTest(OML ~ condition, data = online_OML)\n",
    "leveneTest(log_rt ~ condition, data = online_position)\n",
    "\n",
    "tukeyboxplot(data = online_position, x = condition, y = log_rt, by = position)\n"
   ]
  },
  {
   "cell_type": "markdown",
   "metadata": {},
   "source": [
    "### OML data\n",
    "#### Linear models "
   ]
  },
  {
   "cell_type": "code",
   "execution_count": 145,
   "metadata": {
    "vscode": {
     "languageId": "r"
    }
   },
   "outputs": [
    {
     "name": "stdout",
     "output_type": "stream",
     "text": [
      "[1] \"Cueless linear model ------------------------------------------------------------------------\"\n"
     ]
    },
    {
     "data": {
      "text/plain": [
       "\n",
       "Call:\n",
       "lm(formula = OML ~ block, data = online_OML_cueless)\n",
       "\n",
       "Residuals:\n",
       "     Min       1Q   Median       3Q      Max \n",
       "-0.37218 -0.07799  0.00105  0.08000  0.55795 \n",
       "\n",
       "Coefficients:\n",
       "             Estimate Std. Error t value Pr(>|t|)  \n",
       "(Intercept) -0.001827   0.010540  -0.173   0.8624  \n",
       "block       -0.001396   0.000737  -1.895   0.0586 .\n",
       "---\n",
       "Signif. codes:  0 '***' 0.001 '**' 0.01 '*' 0.05 '.' 0.1 ' ' 1\n",
       "\n",
       "Residual standard error: 0.1196 on 549 degrees of freedom\n",
       "Multiple R-squared:  0.006498,\tAdjusted R-squared:  0.004688 \n",
       "F-statistic:  3.59 on 1 and 549 DF,  p-value: 0.05864\n"
      ]
     },
     "metadata": {},
     "output_type": "display_data"
    },
    {
     "name": "stdout",
     "output_type": "stream",
     "text": [
      "[1] \"Spatial-cue linear model ------------------------------------------------------------------------\"\n"
     ]
    },
    {
     "data": {
      "text/plain": [
       "\n",
       "Call:\n",
       "lm(formula = OML ~ block, data = online_OML_spatial_cue)\n",
       "\n",
       "Residuals:\n",
       "     Min       1Q   Median       3Q      Max \n",
       "-0.92431 -0.06987 -0.00294  0.07190  0.41809 \n",
       "\n",
       "Coefficients:\n",
       "              Estimate Std. Error t value Pr(>|t|)    \n",
       "(Intercept)  0.0421049  0.0093254   4.515 7.44e-06 ***\n",
       "block       -0.0005045  0.0006526  -0.773     0.44    \n",
       "---\n",
       "Signif. codes:  0 '***' 0.001 '**' 0.01 '*' 0.05 '.' 0.1 ' ' 1\n",
       "\n",
       "Residual standard error: 0.1192 on 694 degrees of freedom\n",
       "Multiple R-squared:  0.0008603,\tAdjusted R-squared:  -0.0005794 \n",
       "F-statistic: 0.5975 on 1 and 694 DF,  p-value: 0.4398\n"
      ]
     },
     "metadata": {},
     "output_type": "display_data"
    },
    {
     "data": {
      "image/png": "[encoded data removed]",
      "text/plain": [
       "Plot with title \"\""
      ]
     },
     "metadata": {
      "image/png": {
       "height": 420,
       "width": 420
      }
     },
     "output_type": "display_data"
    }
   ],
   "source": [
    "#cueless lm \n",
    "print(\"Cueless linear model ------------------------------------------------------------------------\")\n",
    "cueless_lm = lm(OML ~ block, data = online_OML_cueless)\n",
    "summary(cueless_lm)\n",
    "\n",
    "#spatial cue lm\n",
    "print(\"Spatial-cue linear model ------------------------------------------------------------------------\")\n",
    "spatial_cue_lm = lm(OML ~ block, data = online_OML_spatial_cue)\n",
    "summary(spatial_cue_lm)\n",
    "\n",
    "plot(spatial_cue_lm,  which = 1)\n",
    "\n"
   ]
  },
  {
   "attachments": {},
   "cell_type": "markdown",
   "metadata": {},
   "source": [
    "# Offline data\n",
    "\n"
   ]
  },
  {
   "cell_type": "code",
   "execution_count": 146,
   "metadata": {
    "vscode": {
     "languageId": "r"
    }
   },
   "outputs": [],
   "source": [
    "#data setup \n",
    "\n",
    "offline_full<- remove_outlier(offline_full, c(\"correct\"))\n",
    "\n",
    "offline_illusionary<- remove_outlier(offline_illusionary, c(\"correct\"))\n",
    "offline_part <- remove_outlier(offline_part, c(\"correct\"))\n",
    "\n"
   ]
  },
  {
   "cell_type": "code",
   "execution_count": 147,
   "metadata": {
    "vscode": {
     "languageId": "r"
    }
   },
   "outputs": [],
   "source": [
    "\n",
    "\n",
    "# library(arsenal)\n",
    "\n",
    "# summary(comparedf(offline_illusionary, offline_illusionary_test))\n",
    "\n"
   ]
  },
  {
   "attachments": {},
   "cell_type": "markdown",
   "metadata": {},
   "source": [
    "## Descriptive statistics & visualisaiton"
   ]
  },
  {
   "cell_type": "code",
   "execution_count": 148,
   "metadata": {
    "vscode": {
     "languageId": "r"
    }
   },
   "outputs": [
    {
     "data": {
      "text/html": [
       "<table class=\"dataframe\">\n",
       "<caption>A tibble: 2 × 3</caption>\n",
       "<thead>\n",
       "\t<tr><th scope=col>condition</th><th scope=col>mean_ill</th><th scope=col>sd_ill</th></tr>\n",
       "\t<tr><th scope=col>&lt;fct&gt;</th><th scope=col>&lt;dbl&gt;</th><th scope=col>&lt;dbl&gt;</th></tr>\n",
       "</thead>\n",
       "<tbody>\n",
       "\t<tr><td>cueless    </td><td>0.4782609</td><td>0.1689566</td></tr>\n",
       "\t<tr><td>spatial_cue</td><td>0.4206349</td><td>0.2868364</td></tr>\n",
       "</tbody>\n",
       "</table>\n"
      ],
      "text/latex": [
       "A tibble: 2 × 3\n",
       "\\begin{tabular}{lll}\n",
       " condition & mean\\_ill & sd\\_ill\\\\\n",
       " <fct> & <dbl> & <dbl>\\\\\n",
       "\\hline\n",
       "\t cueless     & 0.4782609 & 0.1689566\\\\\n",
       "\t spatial\\_cue & 0.4206349 & 0.2868364\\\\\n",
       "\\end{tabular}\n"
      ],
      "text/markdown": [
       "\n",
       "A tibble: 2 × 3\n",
       "\n",
       "| condition &lt;fct&gt; | mean_ill &lt;dbl&gt; | sd_ill &lt;dbl&gt; |\n",
       "|---|---|---|\n",
       "| cueless     | 0.4782609 | 0.1689566 |\n",
       "| spatial_cue | 0.4206349 | 0.2868364 |\n",
       "\n"
      ],
      "text/plain": [
       "  condition   mean_ill  sd_ill   \n",
       "1 cueless     0.4782609 0.1689566\n",
       "2 spatial_cue 0.4206349 0.2868364"
      ]
     },
     "metadata": {},
     "output_type": "display_data"
    },
    {
     "data": {
      "text/html": [
       "<table class=\"dataframe\">\n",
       "<caption>A tibble: 2 × 3</caption>\n",
       "<thead>\n",
       "\t<tr><th scope=col>condition</th><th scope=col>mean_part</th><th scope=col>sd_part</th></tr>\n",
       "\t<tr><th scope=col>&lt;fct&gt;</th><th scope=col>&lt;dbl&gt;</th><th scope=col>&lt;dbl&gt;</th></tr>\n",
       "</thead>\n",
       "<tbody>\n",
       "\t<tr><td>cueless    </td><td>0.5681818</td><td>0.1250301</td></tr>\n",
       "\t<tr><td>spatial_cue</td><td>0.5714286</td><td>0.1376532</td></tr>\n",
       "</tbody>\n",
       "</table>\n"
      ],
      "text/latex": [
       "A tibble: 2 × 3\n",
       "\\begin{tabular}{lll}\n",
       " condition & mean\\_part & sd\\_part\\\\\n",
       " <fct> & <dbl> & <dbl>\\\\\n",
       "\\hline\n",
       "\t cueless     & 0.5681818 & 0.1250301\\\\\n",
       "\t spatial\\_cue & 0.5714286 & 0.1376532\\\\\n",
       "\\end{tabular}\n"
      ],
      "text/markdown": [
       "\n",
       "A tibble: 2 × 3\n",
       "\n",
       "| condition &lt;fct&gt; | mean_part &lt;dbl&gt; | sd_part &lt;dbl&gt; |\n",
       "|---|---|---|\n",
       "| cueless     | 0.5681818 | 0.1250301 |\n",
       "| spatial_cue | 0.5714286 | 0.1376532 |\n",
       "\n"
      ],
      "text/plain": [
       "  condition   mean_part sd_part  \n",
       "1 cueless     0.5681818 0.1250301\n",
       "2 spatial_cue 0.5714286 0.1376532"
      ]
     },
     "metadata": {},
     "output_type": "display_data"
    }
   ],
   "source": [
    "#get descriptive statistics for both conditions \n",
    "describe(data = offline_illusionary, by = condition, mean_ill = mean(correct), sd_ill = sd(correct))\n",
    "describe(data = offline_part, by = condition, mean_part = mean(correct), sd_part = sd(correct))"
   ]
  },
  {
   "cell_type": "code",
   "execution_count": 149,
   "metadata": {
    "vscode": {
     "languageId": "r"
    }
   },
   "outputs": [
    {
     "name": "stderr",
     "output_type": "stream",
     "text": [
      "`summarise()` has grouped output by 'condition'. You can override using the `.groups` argument.\n",
      "`summarise()` has grouped output by 'condition'. You can override using the `.groups` argument.\n",
      "\u001b[1m\u001b[22mSaving 6.67 x 6.67 in image\n",
      "\u001b[1m\u001b[22mDon't know how to automatically pick scale for object of type\n",
      "\u001b[34m<grouped_df/tbl_df/tbl/data.frame>\u001b[39m. Defaulting to continuous.\n",
      "ERROR while rich displaying an object: \u001b[1m\u001b[33mError\u001b[39m in `geom_boxplot()`:\u001b[22m\n",
      "\u001b[1m\u001b[22m\u001b[33m!\u001b[39m Problem while computing aesthetics.\n",
      "\u001b[36mi\u001b[39m Error occurred in the 1st layer.\n",
      "\u001b[1mCaused by error in `check_aesthetics()`:\u001b[22m\n",
      "\u001b[1m\u001b[22m\u001b[33m!\u001b[39m Aesthetics must be either length 1 or the same as the data (88)\n",
      "\u001b[31mx\u001b[39m Fix the following mappings: `y`\n",
      "\n",
      "Traceback:\n",
      "1. FUN(X[[i]], ...)\n",
      "2. tryCatch(withCallingHandlers({\n",
      " .     if (!mime %in% names(repr::mime2repr)) \n",
      " .         stop(\"No repr_* for mimetype \", mime, \" in repr::mime2repr\")\n",
      " .     rpr <- repr::mime2repr[[mime]](obj)\n",
      " .     if (is.null(rpr)) \n",
      " .         return(NULL)\n",
      " .     prepare_content(is.raw(rpr), rpr)\n",
      " . }, error = error_handler), error = outer_handler)\n",
      "3. tryCatchList(expr, classes, parentenv, handlers)\n",
      "4. tryCatchOne(expr, names, parentenv, handlers[[1L]])\n",
      "5. doTryCatch(return(expr), name, parentenv, handler)\n",
      "6. withCallingHandlers({\n",
      " .     if (!mime %in% names(repr::mime2repr)) \n",
      " .         stop(\"No repr_* for mimetype \", mime, \" in repr::mime2repr\")\n",
      " .     rpr <- repr::mime2repr[[mime]](obj)\n",
      " .     if (is.null(rpr)) \n",
      " .         return(NULL)\n",
      " .     prepare_content(is.raw(rpr), rpr)\n",
      " . }, error = error_handler)\n",
      "7. repr::mime2repr[[mime]](obj)\n",
      "8. repr_text.default(obj)\n",
      "9. paste(capture.output(print(obj)), collapse = \"\\n\")\n",
      "10. capture.output(print(obj))\n",
      "11. withVisible(...elt(i))\n",
      "12. print(obj)\n",
      "13. print.ggplot(obj)\n",
      "14. ggplot_build(x)\n",
      "15. ggplot_build.ggplot(x)\n",
      "16. by_layer(function(l, d) l$compute_aesthetics(d, plot), layers, \n",
      "  .     data, \"computing aesthetics\")\n",
      "17. try_fetch(for (i in seq_along(data)) {\n",
      "  .     out[[i]] <- f(l = layers[[i]], d = data[[i]])\n",
      "  . }, error = function(cnd) {\n",
      "  .     cli::cli_abort(c(\"Problem while {step}.\", i = \"Error occurred in the {ordinal(i)} layer.\"), \n",
      "  .         call = layers[[i]]$constructor, parent = cnd)\n",
      "  . })\n",
      "18. tryCatch(withCallingHandlers(expr, error = function(cnd) {\n",
      "  .     {\n",
      "  .         .__handler_frame__. <- TRUE\n",
      "  .         .__setup_frame__. <- frame\n",
      "  .     }\n",
      "  .     out <- handlers[[1L]](cnd)\n",
      "  .     if (!inherits(out, \"rlang_zap\")) \n",
      "  .         throw(out)\n",
      "  . }), stackOverflowError = handlers[[1L]])\n",
      "19. tryCatchList(expr, classes, parentenv, handlers)\n",
      "20. tryCatchOne(expr, names, parentenv, handlers[[1L]])\n",
      "21. doTryCatch(return(expr), name, parentenv, handler)\n",
      "22. withCallingHandlers(expr, error = function(cnd) {\n",
      "  .     {\n",
      "  .         .__handler_frame__. <- TRUE\n",
      "  .         .__setup_frame__. <- frame\n",
      "  .     }\n",
      "  .     out <- handlers[[1L]](cnd)\n",
      "  .     if (!inherits(out, \"rlang_zap\")) \n",
      "  .         throw(out)\n",
      "  . })\n",
      "23. f(l = layers[[i]], d = data[[i]])\n",
      "24. l$compute_aesthetics(d, plot)\n",
      "25. compute_aesthetics(..., self = self)\n",
      "26. check_aesthetics(evaled, n)\n",
      "27. cli::cli_abort(c(\"Aesthetics must be either length 1 or the same as the data ({n})\", \n",
      "  .     x = \"Fix the following mappings: {.col {names(which(!good))}}\"))\n",
      "28. rlang::abort(message, ..., call = call, use_cli_format = TRUE, \n",
      "  .     .frame = .frame)\n",
      "29. signal_abort(cnd, .file)\n",
      "30. signalCondition(cnd)\n",
      "31. (function (cnd) \n",
      "  . {\n",
      "  .     {\n",
      "  .         .__handler_frame__. <- TRUE\n",
      "  .         .__setup_frame__. <- frame\n",
      "  .     }\n",
      "  .     out <- handlers[[1L]](cnd)\n",
      "  .     if (!inherits(out, \"rlang_zap\")) \n",
      "  .         throw(out)\n",
      "  . })(structure(list(message = structure(\"Aesthetics must be either length 1 or the same as the data (88)\", .Names = \"\"), \n",
      "  .     trace = structure(list(call = list(IRkernel::main(), kernel$run(), \n",
      "  .         handle_shell(), executor$execute(msg), tryCatch(evaluate(request$content$code, \n",
      "  .             envir = .GlobalEnv, output_handler = oh, stop_on_error = 1L), \n",
      "  .             interrupt = function(cond) {\n",
      "  .                 log_debug(\"Interrupt during execution\")\n",
      "  .                 interrupted <<- TRUE\n",
      "  .             }, error = .self$handle_error), tryCatchList(expr, \n",
      "  .             classes, parentenv, handlers), tryCatchOne(tryCatchList(expr, \n",
      "  .             names[-nh], parentenv, handlers[-nh]), names[nh], \n",
      "  .             parentenv, handlers[[nh]]), doTryCatch(return(expr), \n",
      "  .             name, parentenv, handler), tryCatchList(expr, names[-nh], \n",
      "  .             parentenv, handlers[-nh]), tryCatchOne(expr, names, \n",
      "  .             parentenv, handlers[[1L]]), doTryCatch(return(expr), \n",
      "  .             name, parentenv, handler), evaluate(request$content$code, \n",
      "  .             envir = .GlobalEnv, output_handler = oh, stop_on_error = 1L), \n",
      "  .         evaluate_call(expr, parsed$src[[i]], envir = envir, enclos = enclos, \n",
      "  .             debug = debug, last = i == length(out), use_try = stop_on_error != \n",
      "  .                 2L, keep_warning = keep_warning, keep_message = keep_message, \n",
      "  .             output_handler = output_handler, include_timing = include_timing), \n",
      "  .         handle(pv <- withCallingHandlers(withVisible(value_fun(ev$value, \n",
      "  .             ev$visible)), warning = wHandler, error = eHandler, \n",
      "  .             message = mHandler)), try(f, silent = TRUE), tryCatch(expr, \n",
      "  .             error = function(e) {\n",
      "  .                 call <- conditionCall(e)\n",
      "  .                 if (!is.null(call)) {\n",
      "  .                   if (identical(call[[1L]], quote(doTryCatch))) \n",
      "  .                     call <- sys.call(-4L)\n",
      "  .                   dcall <- deparse(call)[1L]\n",
      "  .                   prefix <- paste(\"Error in\", dcall, \": \")\n",
      "  .                   LONG <- 75L\n",
      "  .                   sm <- strsplit(conditionMessage(e), \"\\n\")[[1L]]\n",
      "  .                   w <- 14L + nchar(dcall, type = \"w\") + nchar(sm[1L], \n",
      "  .                     type = \"w\")\n",
      "  .                   if (is.na(w)) \n",
      "  .                     w <- 14L + nchar(dcall, type = \"b\") + nchar(sm[1L], \n",
      "  .                       type = \"b\")\n",
      "  .                   if (w > LONG) \n",
      "  .                     prefix <- paste0(prefix, \"\\n  \")\n",
      "  .                 }\n",
      "  .                 else prefix <- \"Error : \"\n",
      "  .                 msg <- paste0(prefix, conditionMessage(e), \"\\n\")\n",
      "  .                 .Internal(seterrmessage(msg[1L]))\n",
      "  .                 if (!silent && isTRUE(getOption(\"show.error.messages\"))) {\n",
      "  .                   cat(msg, file = outFile)\n",
      "  .                   .Internal(printDeferredWarnings())\n",
      "  .                 }\n",
      "  .                 invisible(structure(msg, class = \"try-error\", \n",
      "  .                   condition = e))\n",
      "  .             }), tryCatchList(expr, classes, parentenv, handlers), \n",
      "  .         tryCatchOne(expr, names, parentenv, handlers[[1L]]), \n",
      "  .         doTryCatch(return(expr), name, parentenv, handler), withCallingHandlers(withVisible(value_fun(ev$value, \n",
      "  .             ev$visible)), warning = wHandler, error = eHandler, \n",
      "  .             message = mHandler), withVisible(value_fun(ev$value, \n",
      "  .             ev$visible)), value_fun(ev$value, ev$visible), prepare_mimebundle_kernel(obj, \n",
      "  .             .self$handle_display_error), prepare_mimebundle(obj, \n",
      "  .             \"text/plain\", error_handler = handle_display_error), \n",
      "  .         filter_map(mimetypes, function(mime) {\n",
      "  .             tryCatch(withCallingHandlers({\n",
      "  .                 if (!mime %in% names(repr::mime2repr)) \n",
      "  .                   stop(\"No repr_* for mimetype \", mime, \" in repr::mime2repr\")\n",
      "  .                 rpr <- repr::mime2repr[[mime]](obj)\n",
      "  .                 if (is.null(rpr)) \n",
      "  .                   return(NULL)\n",
      "  .                 prepare_content(is.raw(rpr), rpr)\n",
      "  .             }, error = error_handler), error = outer_handler)\n",
      "  .         }), Filter(Negate(is.null), sapply(x, f, simplify = simplify)), \n",
      "  .         unlist(lapply(x, f)), lapply(x, f), sapply(x, f, simplify = simplify), \n",
      "  .         lapply(X = X, FUN = FUN, ...), FUN(X[[i]], ...), tryCatch(withCallingHandlers({\n",
      "  .             if (!mime %in% names(repr::mime2repr)) \n",
      "  .                 stop(\"No repr_* for mimetype \", mime, \" in repr::mime2repr\")\n",
      "  .             rpr <- repr::mime2repr[[mime]](obj)\n",
      "  .             if (is.null(rpr)) \n",
      "  .                 return(NULL)\n",
      "  .             prepare_content(is.raw(rpr), rpr)\n",
      "  .         }, error = error_handler), error = outer_handler), tryCatchList(expr, \n",
      "  .             classes, parentenv, handlers), tryCatchOne(expr, \n",
      "  .             names, parentenv, handlers[[1L]]), doTryCatch(return(expr), \n",
      "  .             name, parentenv, handler), withCallingHandlers({\n",
      "  .             if (!mime %in% names(repr::mime2repr)) \n",
      "  .                 stop(\"No repr_* for mimetype \", mime, \" in repr::mime2repr\")\n",
      "  .             rpr <- repr::mime2repr[[mime]](obj)\n",
      "  .             if (is.null(rpr)) \n",
      "  .                 return(NULL)\n",
      "  .             prepare_content(is.raw(rpr), rpr)\n",
      "  .         }, error = error_handler), repr::mime2repr[[mime]](obj), \n",
      "  .         repr_text.default(obj), paste(capture.output(print(obj)), \n",
      "  .             collapse = \"\\n\"), capture.output(print(obj)), withVisible(...elt(i)), \n",
      "  .         print(obj), print.ggplot(obj), ggplot_build(x), ggplot_build.ggplot(x), \n",
      "  .         by_layer(function(l, d) l$compute_aesthetics(d, plot), \n",
      "  .             layers, data, \"computing aesthetics\"), try_fetch(for (i in seq_along(data)) {\n",
      "  .             out[[i]] <- f(l = layers[[i]], d = data[[i]])\n",
      "  .         }, error = function(cnd) {\n",
      "  .             cli::cli_abort(c(\"Problem while {step}.\", i = \"Error occurred in the {ordinal(i)} layer.\"), \n",
      "  .                 call = layers[[i]]$constructor, parent = cnd)\n",
      "  .         }), tryCatch(withCallingHandlers(expr, error = function(cnd) {\n",
      "  .             {\n",
      "  .                 .__handler_frame__. <- TRUE\n",
      "  .                 .__setup_frame__. <- frame\n",
      "  .             }\n",
      "  .             out <- handlers[[1L]](cnd)\n",
      "  .             if (!inherits(out, \"rlang_zap\")) \n",
      "  .                 throw(out)\n",
      "  .         }), stackOverflowError = handlers[[1L]]), tryCatchList(expr, \n",
      "  .             classes, parentenv, handlers), tryCatchOne(expr, \n",
      "  .             names, parentenv, handlers[[1L]]), doTryCatch(return(expr), \n",
      "  .             name, parentenv, handler), withCallingHandlers(expr, \n",
      "  .             error = function(cnd) {\n",
      "  .                 {\n",
      "  .                   .__handler_frame__. <- TRUE\n",
      "  .                   .__setup_frame__. <- frame\n",
      "  .                 }\n",
      "  .                 out <- handlers[[1L]](cnd)\n",
      "  .                 if (!inherits(out, \"rlang_zap\")) \n",
      "  .                   throw(out)\n",
      "  .             }), f(l = layers[[i]], d = data[[i]]), l$compute_aesthetics(d, \n",
      "  .             plot), compute_aesthetics(..., self = self), check_aesthetics(evaled, \n",
      "  .             n), cli::cli_abort(c(\"Aesthetics must be either length 1 or the same as the data ({n})\", \n",
      "  .             x = \"Fix the following mappings: {.col {names(which(!good))}}\")), \n",
      "  .         rlang::abort(message, ..., call = call, use_cli_format = TRUE, \n",
      "  .             .frame = .frame)), parent = c(0L, 1L, 2L, 3L, 4L, \n",
      "  .     5L, 6L, 7L, 6L, 9L, 10L, 4L, 12L, 13L, 14L, 15L, 16L, 17L, \n",
      "  .     18L, 13L, 13L, 13L, 22L, 23L, 24L, 25L, 26L, 26L, 25L, 29L, \n",
      "  .     30L, 31L, 32L, 33L, 34L, 31L, 31L, 31L, 38L, 38L, 40L, 38L, \n",
      "  .     38L, 43L, 43L, 45L, 46L, 47L, 48L, 49L, 50L, 47L, 46L, 53L, \n",
      "  .     54L, 55L, 56L, 57L), visible = c(TRUE, TRUE, TRUE, TRUE, \n",
      "  .     TRUE, TRUE, TRUE, TRUE, TRUE, TRUE, TRUE, TRUE, TRUE, TRUE, \n",
      "  .     TRUE, TRUE, TRUE, TRUE, TRUE, TRUE, TRUE, TRUE, TRUE, TRUE, \n",
      "  .     TRUE, TRUE, TRUE, TRUE, TRUE, TRUE, TRUE, TRUE, TRUE, TRUE, \n",
      "  .     TRUE, TRUE, TRUE, TRUE, TRUE, TRUE, TRUE, TRUE, TRUE, TRUE, \n",
      "  .     TRUE, TRUE, TRUE, TRUE, TRUE, TRUE, TRUE, TRUE, TRUE, TRUE, \n",
      "  .     TRUE, TRUE, FALSE, FALSE), namespace = c(\"IRkernel\", NA, \n",
      "  .     \"IRkernel\", NA, \"base\", \"base\", \"base\", \"base\", \"base\", \"base\", \n",
      "  .     \"base\", \"evaluate\", \"evaluate\", \"evaluate\", \"base\", \"base\", \n",
      "  .     \"base\", \"base\", \"base\", \"base\", \"base\", \"IRkernel\", \"IRkernel\", \n",
      "  .     \"IRdisplay\", \"IRdisplay\", \"base\", \"base\", \"base\", \"base\", \n",
      "  .     \"base\", \"IRdisplay\", \"base\", \"base\", \"base\", \"base\", \"base\", \n",
      "  .     NA, \"repr\", \"base\", \"utils\", \"base\", \"base\", \"ggplot2\", \"ggplot2\", \n",
      "  .     \"ggplot2\", \"ggplot2\", \"rlang\", \"base\", \"base\", \"base\", \"base\", \n",
      "  .     \"base\", \"ggplot2\", NA, \"ggplot2\", \"ggplot2\", \"cli\", \"rlang\"\n",
      "  .     ), scope = c(\"::\", NA, \"local\", NA, \"::\", \"local\", \"local\", \n",
      "  .     \"local\", \"local\", \"local\", \"local\", \"::\", \":::\", \"local\", \n",
      "  .     \"::\", \"::\", \"local\", \"local\", \"local\", \"::\", \"::\", \"local\", \n",
      "  .     \":::\", \"::\", \":::\", \"::\", \"::\", \"::\", \"::\", \"::\", \"local\", \n",
      "  .     \"::\", \"local\", \"local\", \"local\", \"::\", NA, \":::\", \"::\", \"::\", \n",
      "  .     \"::\", \"::\", \":::\", \"::\", \":::\", \":::\", \"::\", \"::\", \"local\", \n",
      "  .     \"local\", \"local\", \"::\", \"local\", NA, \"local\", \":::\", \"::\", \n",
      "  .     \"::\"), error_frame = c(FALSE, FALSE, FALSE, FALSE, FALSE, \n",
      "  .     FALSE, FALSE, FALSE, FALSE, FALSE, FALSE, FALSE, FALSE, FALSE, \n",
      "  .     FALSE, FALSE, FALSE, FALSE, FALSE, FALSE, FALSE, FALSE, FALSE, \n",
      "  .     FALSE, FALSE, FALSE, FALSE, FALSE, FALSE, FALSE, FALSE, FALSE, \n",
      "  .     FALSE, FALSE, FALSE, FALSE, FALSE, FALSE, FALSE, FALSE, FALSE, \n",
      "  .     FALSE, FALSE, FALSE, FALSE, FALSE, FALSE, FALSE, FALSE, FALSE, \n",
      "  .     FALSE, FALSE, FALSE, FALSE, FALSE, TRUE, FALSE, FALSE)), row.names = c(NA, \n",
      "  .     -58L), version = 2L, class = c(\"rlang_trace\", \"rlib_trace\", \n",
      "  .     \"tbl\", \"data.frame\")), parent = NULL, body = c(x = \"Fix the following mappings: `y`\"), \n",
      "  .     call = check_aesthetics(evaled, n), use_cli_format = TRUE), class = c(\"rlang_error\", \n",
      "  . \"error\", \"condition\")))\n",
      "32. handlers[[1L]](cnd)\n",
      "33. cli::cli_abort(c(\"Problem while {step}.\", i = \"Error occurred in the {ordinal(i)} layer.\"), \n",
      "  .     call = layers[[i]]$constructor, parent = cnd)\n",
      "34. rlang::abort(message, ..., call = call, use_cli_format = TRUE, \n",
      "  .     .frame = .frame)\n",
      "35. signal_abort(cnd, .file)\n"
     ]
    },
    {
     "data": {
      "image/png": "[encoded data removed]",
      "text/plain": [
       "plot without title"
      ]
     },
     "metadata": {
      "image/png": {
       "height": 420,
       "width": 420
      }
     },
     "output_type": "display_data"
    },
    {
     "data": {
      "image/png": "[encoded data removed]",
      "text/plain": [
       "plot without title"
      ]
     },
     "metadata": {
      "image/png": {
       "height": 420,
       "width": 420
      }
     },
     "output_type": "display_data"
    }
   ],
   "source": [
    "#create dataframe for graphs \n",
    "df1 <- offline_illusionary %>% group_by(condition, comparison_type) %>% summarize(Comparison = \"Illusionary\",\n",
    "mean = mean(correct), sd = sd(correct))\n",
    "\n",
    "df2 <- offline_part %>% group_by(condition,comparison_type) %>% summarize(Comparison = \"Part\",\n",
    "mean = mean(correct), sd = sd(correct))\n",
    "\n",
    "df <- rbind(df1, df2)\n",
    "\n",
    "#create graph \n",
    "plot = ggplot(df, aes(x=condition,y = mean, fill = Comparison, group = Comparison, , ymin = mean-sd, ymax = mean+sd)) +\n",
    "geom_bar(stat=\"identity\", position = \"dodge\") +  \n",
    "labs(x = \"Condition\", y = \"Mean percentage correct\", add = c(\"mean_se\", \"jitter\")) +\n",
    "geom_point(aes(x = condition), shape = 21, position = position_dodge(width = 1))\n",
    "\n",
    "plot + geom_errorbar(width = 0.2, position= position_dodge(0.9), aes(group = Comparison))+ scale_x_discrete(\n",
    "  labels=c(\"cueless\" = \"No cue\", 'spatial_cue'= 'Spatial cue')\n",
    ") \n",
    "\n",
    "\n",
    "ggsave(r\"(C:\\Users\\invate\\OneDrive\\Documents\\Nottingham Trent Work\\Project lab\\Analysis\\Graphs\\2_AFC.png)\")\n",
    "\n",
    "\n",
    "#create tukey boxplot \n",
    "tukeyboxplot(data = offline_full, x = condition, y = df, by = comparison_type)\n"
   ]
  },
  {
   "cell_type": "code",
   "execution_count": 150,
   "metadata": {
    "vscode": {
     "languageId": "r"
    }
   },
   "outputs": [
    {
     "name": "stderr",
     "output_type": "stream",
     "text": [
      "`summarise()` has grouped output by 'condition'. You can override using the `.groups` argument.\n",
      "`summarise()` has grouped output by 'condition'. You can override using the `.groups` argument.\n",
      "Warning message in geom_bar(position = \"dodge\", stat = \"summary\", y.fun = \"mean\"):\n",
      "\"\u001b[1m\u001b[22mIgnoring unknown parameters: `y.fun`\"\n",
      "\u001b[1m\u001b[22mNo summary function supplied, defaulting to `mean_se()`\n",
      "\u001b[1m\u001b[22mNo summary function supplied, defaulting to `mean_se()`\n"
     ]
    },
    {
     "data": {
      "image/png": "[encoded data removed]",
      "text/plain": [
       "plot without title"
      ]
     },
     "metadata": {
      "image/png": {
       "height": 420,
       "width": 420
      }
     },
     "output_type": "display_data"
    }
   ],
   "source": [
    "df1 <- offline_illusionary %>% group_by(condition, comparison_type) %>% summarize(Comparison = \"Illusionary\",\n",
    "correct = mean(correct), sd = sd(correct))\n",
    "\n",
    "df2 <- offline_part %>% group_by(condition,comparison_type) %>% summarize(Comparison = \"Part\",\n",
    "correct = mean(correct), sd = sd(correct))\n",
    "\n",
    "df <- rbind(df1, df2)\n",
    "\n",
    "plot <- ggplot(offline_full, aes(condition, correct, fill = comparison_type))+\n",
    "geom_bar(position = \"dodge\", stat = \"summary\", y.fun = \"mean\") +\n",
    "geom_errorbar(stat = 'summary', position = 'dodge', width = 0.9) +\n",
    "geom_point(aes(x = condition), shape = 21, position = position_dodge(width = 1))\n",
    "\n",
    "print(plot)\n"
   ]
  },
  {
   "attachments": {},
   "cell_type": "markdown",
   "metadata": {},
   "source": [
    "## Analyses\n",
    "### Assumption checks \n"
   ]
  },
  {
   "cell_type": "code",
   "execution_count": 151,
   "metadata": {
    "vscode": {
     "languageId": "r"
    }
   },
   "outputs": [],
   "source": [
    "#Get residuals\n",
    "\n",
    "res_model <- aov(log(correct +0.1)  ~ comparison_type*condition, data = offline_full)\n",
    "\n",
    "\n",
    "res_data <- mutate(offline_full, residuals = residuals(res_model))"
   ]
  },
  {
   "attachments": {},
   "cell_type": "markdown",
   "metadata": {},
   "source": [
    "#### Normality"
   ]
  },
  {
   "cell_type": "code",
   "execution_count": 152,
   "metadata": {
    "vscode": {
     "languageId": "r"
    }
   },
   "outputs": [
    {
     "data": {
      "text/html": [
       "<table class=\"dataframe\">\n",
       "<caption>A tibble: 2 × 3</caption>\n",
       "<thead>\n",
       "\t<tr><th scope=col>comparison_type</th><th scope=col>statistic</th><th scope=col>p_value</th></tr>\n",
       "\t<tr><th scope=col>&lt;fct&gt;</th><th scope=col>&lt;dbl&gt;</th><th scope=col>&lt;dbl&gt;</th></tr>\n",
       "</thead>\n",
       "<tbody>\n",
       "\t<tr><td>illusionary  </td><td>0.7819904</td><td>1.211014e-06</td></tr>\n",
       "\t<tr><td>part_sequence</td><td>0.9258423</td><td>7.502520e-03</td></tr>\n",
       "</tbody>\n",
       "</table>\n"
      ],
      "text/latex": [
       "A tibble: 2 × 3\n",
       "\\begin{tabular}{lll}\n",
       " comparison\\_type & statistic & p\\_value\\\\\n",
       " <fct> & <dbl> & <dbl>\\\\\n",
       "\\hline\n",
       "\t illusionary   & 0.7819904 & 1.211014e-06\\\\\n",
       "\t part\\_sequence & 0.9258423 & 7.502520e-03\\\\\n",
       "\\end{tabular}\n"
      ],
      "text/markdown": [
       "\n",
       "A tibble: 2 × 3\n",
       "\n",
       "| comparison_type &lt;fct&gt; | statistic &lt;dbl&gt; | p_value &lt;dbl&gt; |\n",
       "|---|---|---|\n",
       "| illusionary   | 0.7819904 | 1.211014e-06 |\n",
       "| part_sequence | 0.9258423 | 7.502520e-03 |\n",
       "\n"
      ],
      "text/plain": [
       "  comparison_type statistic p_value     \n",
       "1 illusionary     0.7819904 1.211014e-06\n",
       "2 part_sequence   0.9258423 7.502520e-03"
      ]
     },
     "metadata": {},
     "output_type": "display_data"
    },
    {
     "data": {
      "text/html": [
       "<table class=\"dataframe\">\n",
       "<caption>A tibble: 2 × 3</caption>\n",
       "<thead>\n",
       "\t<tr><th scope=col>comparison_type</th><th scope=col>statistic</th><th scope=col>p_value</th></tr>\n",
       "\t<tr><th scope=col>&lt;fct&gt;</th><th scope=col>&lt;dbl&gt;</th><th scope=col>&lt;dbl&gt;</th></tr>\n",
       "</thead>\n",
       "<tbody>\n",
       "\t<tr><td>illusionary  </td><td>0.9057744</td><td>0.001645536</td></tr>\n",
       "\t<tr><td>part_sequence</td><td>0.9540361</td><td>0.077825950</td></tr>\n",
       "</tbody>\n",
       "</table>\n"
      ],
      "text/latex": [
       "A tibble: 2 × 3\n",
       "\\begin{tabular}{lll}\n",
       " comparison\\_type & statistic & p\\_value\\\\\n",
       " <fct> & <dbl> & <dbl>\\\\\n",
       "\\hline\n",
       "\t illusionary   & 0.9057744 & 0.001645536\\\\\n",
       "\t part\\_sequence & 0.9540361 & 0.077825950\\\\\n",
       "\\end{tabular}\n"
      ],
      "text/markdown": [
       "\n",
       "A tibble: 2 × 3\n",
       "\n",
       "| comparison_type &lt;fct&gt; | statistic &lt;dbl&gt; | p_value &lt;dbl&gt; |\n",
       "|---|---|---|\n",
       "| illusionary   | 0.9057744 | 0.001645536 |\n",
       "| part_sequence | 0.9540361 | 0.077825950 |\n",
       "\n"
      ],
      "text/plain": [
       "  comparison_type statistic p_value    \n",
       "1 illusionary     0.9057744 0.001645536\n",
       "2 part_sequence   0.9540361 0.077825950"
      ]
     },
     "metadata": {},
     "output_type": "display_data"
    },
    {
     "name": "stdout",
     "output_type": "stream",
     "text": [
      "[1] \"Skew and kurtosis:\"\n"
     ]
    },
    {
     "data": {
      "text/html": [
       "<table class=\"dataframe\">\n",
       "<caption>A tibble: 2 × 3</caption>\n",
       "<thead>\n",
       "\t<tr><th scope=col>condition</th><th scope=col>skew</th><th scope=col>kurt</th></tr>\n",
       "\t<tr><th scope=col>&lt;fct&gt;</th><th scope=col>&lt;dbl&gt;</th><th scope=col>&lt;dbl&gt;</th></tr>\n",
       "</thead>\n",
       "<tbody>\n",
       "\t<tr><td>cueless    </td><td>-0.8369595</td><td>3.141367</td></tr>\n",
       "\t<tr><td>spatial_cue</td><td>-1.1671340</td><td>4.143383</td></tr>\n",
       "</tbody>\n",
       "</table>\n"
      ],
      "text/latex": [
       "A tibble: 2 × 3\n",
       "\\begin{tabular}{lll}\n",
       " condition & skew & kurt\\\\\n",
       " <fct> & <dbl> & <dbl>\\\\\n",
       "\\hline\n",
       "\t cueless     & -0.8369595 & 3.141367\\\\\n",
       "\t spatial\\_cue & -1.1671340 & 4.143383\\\\\n",
       "\\end{tabular}\n"
      ],
      "text/markdown": [
       "\n",
       "A tibble: 2 × 3\n",
       "\n",
       "| condition &lt;fct&gt; | skew &lt;dbl&gt; | kurt &lt;dbl&gt; |\n",
       "|---|---|---|\n",
       "| cueless     | -0.8369595 | 3.141367 |\n",
       "| spatial_cue | -1.1671340 | 4.143383 |\n",
       "\n"
      ],
      "text/plain": [
       "  condition   skew       kurt    \n",
       "1 cueless     -0.8369595 3.141367\n",
       "2 spatial_cue -1.1671340 4.143383"
      ]
     },
     "metadata": {},
     "output_type": "display_data"
    },
    {
     "data": {
      "text/html": [
       "<table class=\"dataframe\">\n",
       "<caption>A tibble: 2 × 3</caption>\n",
       "<thead>\n",
       "\t<tr><th scope=col>comparison_type</th><th scope=col>skew</th><th scope=col>kurt</th></tr>\n",
       "\t<tr><th scope=col>&lt;fct&gt;</th><th scope=col>&lt;dbl&gt;</th><th scope=col>&lt;dbl&gt;</th></tr>\n",
       "</thead>\n",
       "<tbody>\n",
       "\t<tr><td>illusionary  </td><td>-1.0814691</td><td>3.648294</td></tr>\n",
       "\t<tr><td>part_sequence</td><td>-0.7214963</td><td>2.960274</td></tr>\n",
       "</tbody>\n",
       "</table>\n"
      ],
      "text/latex": [
       "A tibble: 2 × 3\n",
       "\\begin{tabular}{lll}\n",
       " comparison\\_type & skew & kurt\\\\\n",
       " <fct> & <dbl> & <dbl>\\\\\n",
       "\\hline\n",
       "\t illusionary   & -1.0814691 & 3.648294\\\\\n",
       "\t part\\_sequence & -0.7214963 & 2.960274\\\\\n",
       "\\end{tabular}\n"
      ],
      "text/markdown": [
       "\n",
       "A tibble: 2 × 3\n",
       "\n",
       "| comparison_type &lt;fct&gt; | skew &lt;dbl&gt; | kurt &lt;dbl&gt; |\n",
       "|---|---|---|\n",
       "| illusionary   | -1.0814691 | 3.648294 |\n",
       "| part_sequence | -0.7214963 | 2.960274 |\n",
       "\n"
      ],
      "text/plain": [
       "  comparison_type skew       kurt    \n",
       "1 illusionary     -1.0814691 3.648294\n",
       "2 part_sequence   -0.7214963 2.960274"
      ]
     },
     "metadata": {},
     "output_type": "display_data"
    },
    {
     "data": {
      "image/png": "[encoded data removed]",
      "text/plain": [
       "Plot with title \"\""
      ]
     },
     "metadata": {
      "image/png": {
       "height": 420,
       "width": 420
      }
     },
     "output_type": "display_data"
    },
    {
     "data": {
      "image/png": "[encoded data removed]",
      "text/plain": [
       "plot without title"
      ]
     },
     "metadata": {
      "image/png": {
       "height": 420,
       "width": 420
      }
     },
     "output_type": "display_data"
    }
   ],
   "source": [
    "#normality\n",
    "shapiro_test(y = log(correct + 0.1), by = comparison_type, data = res_data) #\n",
    "shapiro_test(y = correct, by = comparison_type, data = offline_full) \n",
    "#access skew & kurtosis \n",
    "print(\"Skew and kurtosis:\")\n",
    "describe(res_data, by = condition, skew = moments::skewness(residuals), kurt = moments::kurtosis((residuals)) )\n",
    "describe(res_data, by = comparison_type, skew = moments::skewness(residuals), kurt = moments::kurtosis((residuals)) )\n",
    "\n",
    "plot(res_model, which = 2)\n",
    "\n",
    "histogram(data = res_data, x = residuals, bins = 15)"
   ]
  },
  {
   "attachments": {},
   "cell_type": "markdown",
   "metadata": {},
   "source": [
    "#### Independence"
   ]
  },
  {
   "cell_type": "code",
   "execution_count": 153,
   "metadata": {
    "vscode": {
     "languageId": "r"
    }
   },
   "outputs": [
    {
     "data": {
      "image/png": "[encoded data removed]",
      "text/plain": [
       "plot without title"
      ]
     },
     "metadata": {
      "image/png": {
       "height": 420,
       "width": 420
      }
     },
     "output_type": "display_data"
    }
   ],
   "source": [
    "#scatterplot(data = res_data, y = residuals, x = id, best_fit_line = TRUE)\n",
    "plot(residuals(res_model), type = \"b\")"
   ]
  },
  {
   "attachments": {},
   "cell_type": "markdown",
   "metadata": {},
   "source": [
    "### Linearity & homogeneity"
   ]
  },
  {
   "cell_type": "code",
   "execution_count": 154,
   "metadata": {
    "vscode": {
     "languageId": "r"
    }
   },
   "outputs": [
    {
     "data": {
      "image/png": "[encoded data removed]",
      "text/plain": [
       "Plot with title \"\""
      ]
     },
     "metadata": {
      "image/png": {
       "height": 420,
       "width": 420
      }
     },
     "output_type": "display_data"
    },
    {
     "name": "stdout",
     "output_type": "stream",
     "text": [
      "Levene's Test for Homogeneity of Variance (center = median)\n",
      "      Df F value Pr(>F)\n",
      "group  1  2.0078 0.1601\n",
      "      86               \n"
     ]
    },
    {
     "data": {
      "image/png": "[encoded data removed]",
      "text/plain": [
       "Plot with title \"\""
      ]
     },
     "metadata": {
      "image/png": {
       "height": 420,
       "width": 420
      }
     },
     "output_type": "display_data"
    }
   ],
   "source": [
    "plot(res_model, which = 1)\n",
    "plot(res_model, which = 3)\n",
    "\n",
    "lt = leveneTest(correct~condition, data = offline_full)\n",
    "print(lt)"
   ]
  },
  {
   "attachments": {},
   "cell_type": "markdown",
   "metadata": {},
   "source": [
    "### One-sample t-tests"
   ]
  },
  {
   "cell_type": "code",
   "execution_count": 155,
   "metadata": {
    "vscode": {
     "languageId": "r"
    }
   },
   "outputs": [
    {
     "name": "stdout",
     "output_type": "stream",
     "text": [
      "\n",
      "\tOne Sample t-test\n",
      "\n",
      "data:  cueless_part$correct\n",
      "t = 2.5578, df = 21, p-value = 0.009165\n",
      "alternative hypothesis: true mean is greater than 0.5\n",
      "95 percent confidence interval:\n",
      " 0.5223128       Inf\n",
      "sample estimates:\n",
      "mean of x \n",
      "0.5681818 \n",
      "\n",
      "\n",
      "\tOne Sample t-test\n",
      "\n",
      "data:  spatial_part$correct\n",
      "t = 2.3779, df = 20, p-value = 0.01375\n",
      "alternative hypothesis: true mean is greater than 0.5\n",
      "95 percent confidence interval:\n",
      " 0.5196208       Inf\n",
      "sample estimates:\n",
      "mean of x \n",
      "0.5714286 \n",
      "\n",
      "\n",
      "\tOne Sample t-test\n",
      "\n",
      "data:  cueless_illusion$correct\n",
      "t = -0.61707, df = 22, p-value = 0.2718\n",
      "alternative hypothesis: true mean is less than 0.5\n",
      "95 percent confidence interval:\n",
      "      -Inf 0.5387557\n",
      "sample estimates:\n",
      "mean of x \n",
      "0.4782609 \n",
      "\n",
      "\n",
      "\tOne Sample t-test\n",
      "\n",
      "data:  spatial_illusion$correct\n",
      "t = -1.268, df = 20, p-value = 0.1097\n",
      "alternative hypothesis: true mean is less than 0.5\n",
      "95 percent confidence interval:\n",
      "      -Inf 0.5285899\n",
      "sample estimates:\n",
      "mean of x \n",
      "0.4206349 \n",
      "\n"
     ]
    }
   ],
   "source": [
    "\n",
    "#part-sequence \n",
    "cueless_part = offline_part %>% filter(grepl(\"cueless\", condition))\n",
    "spatial_part = offline_part %>% filter(grepl(\"spatial_cue\", condition))\n",
    "part_os_cl = t.test(cueless_part$correct, mu = 0.5, alternative = \"greater\")\n",
    "print(part_os_cl)\n",
    "part_os_sc = t.test(spatial_part$correct, mu = 0.5, alternative = \"greater\")\n",
    "print(part_os_sc)\n",
    "\n",
    "#illusionary triplet \n",
    "cueless_illusion = offline_illusionary %>% filter(grepl(\"cueless\",condition))\n",
    "spatial_illusion = offline_illusionary %>% filter(grepl(\"spatial_cue\",condition))\n",
    "\n",
    "ill_os_cl = t.test(cueless_illusion$correct, mu = 0.5, alternative = \"less\")\n",
    "print(ill_os_cl)\n",
    "ill_os_sc = t.test(spatial_illusion$correct, mu = 0.5, alternative = \"less\")\n",
    "print(ill_os_sc)"
   ]
  },
  {
   "attachments": {},
   "cell_type": "markdown",
   "metadata": {},
   "source": [
    "##### Wilcox tests"
   ]
  },
  {
   "cell_type": "code",
   "execution_count": 156,
   "metadata": {
    "vscode": {
     "languageId": "r"
    }
   },
   "outputs": [
    {
     "name": "stderr",
     "output_type": "stream",
     "text": [
      "Warning message in wilcox.test.default(cueless_part$correct, mu = 0.5, alternative = \"greater\"):\n",
      "\"cannot compute exact p-value with ties\"\n",
      "Warning message in wilcox.test.default(cueless_part$correct, mu = 0.5, alternative = \"greater\"):\n",
      "\"cannot compute exact p-value with zeroes\"\n"
     ]
    },
    {
     "name": "stdout",
     "output_type": "stream",
     "text": [
      "\n",
      "\tWilcoxon signed rank test with continuity correction\n",
      "\n",
      "data:  cueless_part$correct\n",
      "V = 171, p-value = 0.006802\n",
      "alternative hypothesis: true location is greater than 0.5\n",
      "\n"
     ]
    },
    {
     "name": "stderr",
     "output_type": "stream",
     "text": [
      "Warning message in wilcox.test.default(spatial_part$correct, mu = 0.5, alternative = \"greater\"):\n",
      "\"cannot compute exact p-value with ties\"\n",
      "Warning message in wilcox.test.default(spatial_part$correct, mu = 0.5, alternative = \"greater\"):\n",
      "\"cannot compute exact p-value with zeroes\"\n"
     ]
    },
    {
     "name": "stdout",
     "output_type": "stream",
     "text": [
      "\n",
      "\tWilcoxon signed rank test with continuity correction\n",
      "\n",
      "data:  spatial_part$correct\n",
      "V = 110, p-value = 0.01551\n",
      "alternative hypothesis: true location is greater than 0.5\n",
      "\n"
     ]
    },
    {
     "name": "stderr",
     "output_type": "stream",
     "text": [
      "Warning message in wilcox.test.default(cueless_illusion$correct, mu = 0.5, alternative = \"greater\"):\n",
      "\"cannot compute exact p-value with ties\"\n",
      "Warning message in wilcox.test.default(cueless_illusion$correct, mu = 0.5, alternative = \"greater\"):\n",
      "\"cannot compute exact p-value with zeroes\"\n"
     ]
    },
    {
     "name": "stdout",
     "output_type": "stream",
     "text": [
      "\n",
      "\tWilcoxon signed rank test with continuity correction\n",
      "\n",
      "data:  cueless_illusion$correct\n",
      "V = 36, p-value = 0.9762\n",
      "alternative hypothesis: true location is greater than 0.5\n",
      "\n"
     ]
    },
    {
     "name": "stderr",
     "output_type": "stream",
     "text": [
      "Warning message in wilcox.test.default(spatial_illusion$correct, mu = 0.5, alternative = \"greater\"):\n",
      "\"cannot compute exact p-value with ties\"\n",
      "Warning message in wilcox.test.default(spatial_illusion$correct, mu = 0.5, alternative = \"greater\"):\n",
      "\"cannot compute exact p-value with zeroes\"\n"
     ]
    },
    {
     "name": "stdout",
     "output_type": "stream",
     "text": [
      "\n",
      "\tWilcoxon signed rank test with continuity correction\n",
      "\n",
      "data:  spatial_illusion$correct\n",
      "V = 34, p-value = 0.9362\n",
      "alternative hypothesis: true location is greater than 0.5\n",
      "\n"
     ]
    }
   ],
   "source": [
    "#part-sequence \n",
    "cueless_part = offline_part %>% filter(grepl(\"cueless\", condition))\n",
    "spatial_part = offline_part %>% filter(grepl(\"spatial_cue\", condition))\n",
    "part_os_cl = wilcox.test(cueless_part$correct, mu = 0.5, alternative = \"greater\")\n",
    "print(part_os_cl)\n",
    "part_os_sc = wilcox.test(spatial_part$correct, mu = 0.5, alternative = \"greater\")\n",
    "print(part_os_sc)\n",
    "\n",
    "#illusionary triplet \n",
    "cueless_illusion = offline_illusionary %>% filter(grepl(\"cueless\",condition))\n",
    "spatial_illusion = offline_illusionary %>% filter(grepl(\"spatial_cue\",condition))\n",
    "ill_os_cl = wilcox.test(cueless_illusion$correct, mu = 0.5, alternative = \"greater\")\n",
    "print(ill_os_cl)\n",
    "ill_os_sc = wilcox.test(spatial_illusion$correct, mu = 0.5, alternative = \"greater\")\n",
    "print(ill_os_sc)"
   ]
  },
  {
   "attachments": {},
   "cell_type": "markdown",
   "metadata": {},
   "source": [
    "### ANOVA"
   ]
  },
  {
   "cell_type": "code",
   "execution_count": 157,
   "metadata": {
    "vscode": {
     "languageId": "r"
    }
   },
   "outputs": [
    {
     "name": "stderr",
     "output_type": "stream",
     "text": [
      "Warning message:\n",
      "\"Data is unbalanced (unequal N per group). Make sure you specified a well-considered value for the type argument to ezANOVA().\"\n"
     ]
    },
    {
     "data": {
      "text/plain": [
       "$ANOVA\n",
       "                     Effect DFn DFd          SSn      SSd           F\n",
       "1               (Intercept)   1  42 22.499553147 2.060027 458.7227344\n",
       "2                 condition   1  42  0.009022844 2.060027   0.1839585\n",
       "3           comparison_type   1  42  0.282526514 1.017584  11.6610658\n",
       "4 condition:comparison_type   1  42  0.030632574 1.017584   1.2643361\n",
       "             p p<.05         ges\n",
       "1 3.180873e-24     * 0.879673486\n",
       "2 6.701852e-01       0.002923199\n",
       "3 1.426292e-03     * 0.084081831\n",
       "4 2.672174e-01       0.009855268\n",
       "\n",
       "$aov\n",
       "\n",
       "Call:\n",
       "aov(formula = formula(aov_formula), data = data)\n",
       "\n",
       "Grand Mean: 0.5066288\n",
       "\n",
       "Stratum 1: id\n",
       "\n",
       "Terms:\n",
       "                condition Residuals\n",
       "Sum of Squares  0.0090228 2.0600270\n",
       "Deg. of Freedom         1        42\n",
       "\n",
       "Residual standard error: 0.2214684\n",
       "1 out of 2 effects not estimable\n",
       "Estimated effects are balanced\n",
       "\n",
       "Stratum 2: id:comparison_type\n",
       "\n",
       "Terms:\n",
       "                comparison_type condition:comparison_type Residuals\n",
       "Sum of Squares        0.2747001                 0.0306326 1.0175840\n",
       "Deg. of Freedom               1                         1        42\n",
       "\n",
       "Residual standard error: 0.1556541\n",
       "Estimated effects may be unbalanced\n"
      ]
     },
     "metadata": {},
     "output_type": "display_data"
    }
   ],
   "source": [
    "ez_anova(data = offline_full, dv = correct, wid = id, within = comparison_type, between = condition, type = 3, detailed = TRUE, return_aov = TRUE)\n"
   ]
  },
  {
   "attachments": {},
   "cell_type": "markdown",
   "metadata": {},
   "source": [
    "#### Post-hoc tests(if relevant)"
   ]
  },
  {
   "cell_type": "code",
   "execution_count": 158,
   "metadata": {
    "vscode": {
     "languageId": "r"
    }
   },
   "outputs": [
    {
     "name": "stderr",
     "output_type": "stream",
     "text": [
      "Note: re-fitting model with sum-to-zero contrasts\n",
      "\n"
     ]
    },
    {
     "name": "stdout",
     "output_type": "stream",
     "text": [
      "$emmeans\n",
      "condition = cueless:\n",
      " comparison_type emmean     SE   df lower.CL upper.CL\n",
      " illusionary      0.479 0.0405 74.4    0.398    0.559\n",
      " part_sequence    0.555 0.0405 74.4    0.474    0.636\n",
      "\n",
      "condition = spatial_cue:\n",
      " comparison_type emmean     SE   df lower.CL upper.CL\n",
      " illusionary      0.421 0.0411 76.3    0.339    0.503\n",
      " part_sequence    0.572 0.0411 76.3    0.490    0.654\n",
      "\n",
      "Warning: EMMs are biased unless design is perfectly balanced \n",
      "Confidence level used: 0.95 \n",
      "\n",
      "$contrasts\n",
      "condition = cueless:\n",
      " contrast                    estimate     SE df t.ratio p.value\n",
      " illusionary - part_sequence  -0.0761 0.0459 42  -1.658  0.1048\n",
      "\n",
      "condition = spatial_cue:\n",
      " contrast                    estimate     SE df t.ratio p.value\n",
      " illusionary - part_sequence  -0.1508 0.0480 42  -3.139  0.0031\n",
      "\n",
      "\n"
     ]
    }
   ],
   "source": [
    "model = aov(correct ~ comparison_type*condition+Error(id/comparison_type), data = offline_full)\n",
    "model_ph <- emmeans(model, specs = pairwise ~ comparison_type | condition , adjust = \"bonf\") #must assign to variable to get it to work with Juepyter \n",
    "print(model_ph)"
   ]
  }
 ],
 "metadata": {
  "kernelspec": {
   "display_name": "R",
   "language": "R",
   "name": "ir"
  },
  "language_info": {
   "codemirror_mode": "r",
   "file_extension": ".r",
   "mimetype": "text/x-r-source",
   "name": "R",
   "pygments_lexer": "r",
   "version": "4.1.1"
  },
  "orig_nbformat": 4,
  "vscode": {
   "interpreter": {
    "hash": "935da75deb488915602f7d3444df9d9eb4c784fd0785a06652fc5a9b3a99c6f3"
   }
  }
 },
 "nbformat": 4,
 "nbformat_minor": 2
}
